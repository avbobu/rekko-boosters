{
 "cells": [
  {
   "cell_type": "markdown",
   "metadata": {},
   "source": [
    "# Rekko challenge 2019\n",
    "\n",
    "```\n",
    "                           /$$$$$$$  /$$$$$$$$ /$$   /$$ /$$   /$$  /$$$$$$ \n",
    "                          | $$__  $$| $$_____/| $$  /$$/| $$  /$$/ /$$__  $$\n",
    "                          | $$  \\ $$| $$      | $$ /$$/ | $$ /$$/ | $$  \\ $$\n",
    "                          | $$$$$$$/| $$$$$   | $$$$$/  | $$$$$/  | $$  | $$\n",
    "                          | $$__  $$| $$__/   | $$  $$  | $$  $$  | $$  | $$\n",
    "                          | $$  \\ $$| $$      | $$\\  $$ | $$\\  $$ | $$  | $$\n",
    "                          | $$  | $$| $$$$$$$$| $$ \\  $$| $$ \\  $$|  $$$$$$/\n",
    "                          |__/  |__/|________/|__/  \\__/|__/  \\__/ \\______/ \n",
    "                                                                            \n",
    "```"
   ]
  },
  {
   "cell_type": "markdown",
   "metadata": {},
   "source": [
    "Добро пожаловать на соревнование по машинному обучению от онлайн-кинотеатра [Okko](http://okko.tv) Rekko Challenge 2019.\n",
    "\n",
    "В этом ноутбуке мы покажем вам пример простого но полного решения, от загрузки данных до формирования ответа. Для работы нам понадобятся библиотеки `pandas`, `numpy`, `scipy`, `implicit`, `pprint`, `tqdm`. Установить их в вашем рабочем окружении можно следующей командой.\n",
    "```\n",
    "pip install pandas numpy scipy implicit pprint tqdm\n",
    "```"
   ]
  },
  {
   "cell_type": "code",
   "execution_count": 1,
   "metadata": {
    "collapsed": true
   },
   "outputs": [],
   "source": [
    "import os\n",
    "import json\n",
    "import pandas as pd\n",
    "import numpy as np\n",
    "import tqdm\n",
    "import scipy.sparse as sp\n",
    "from implicit.nearest_neighbours import TFIDFRecommender, CosineRecommender\n",
    "import seaborn as sns\n",
    "import matplotlib.pyplot as plt\n",
    "import matplotlib\n",
    "\n",
    "\n",
    "%matplotlib inline\n",
    "from pprint import pprint"
   ]
  },
  {
   "cell_type": "markdown",
   "metadata": {},
   "source": [
    "### Загрузка данных"
   ]
  },
  {
   "cell_type": "markdown",
   "metadata": {},
   "source": [
    "Замените `DATA_PATH` на путь к данным, которые вы скачали со страницы соревнования."
   ]
  },
  {
   "cell_type": "code",
   "execution_count": 2,
   "metadata": {
    "collapsed": true
   },
   "outputs": [],
   "source": [
    "DATA_PATH = 'input/'"
   ]
  },
  {
   "cell_type": "markdown",
   "metadata": {},
   "source": [
    "---"
   ]
  },
  {
   "cell_type": "markdown",
   "metadata": {},
   "source": [
    "`catalogue.json` содержит анонимизированную метаинформацию о доступных в сервисе фильмах и сериалах."
   ]
  },
  {
   "cell_type": "code",
   "execution_count": 3,
   "metadata": {
    "collapsed": true
   },
   "outputs": [],
   "source": [
    "with open(os.path.join(DATA_PATH, 'catalogue.json'), 'r') as f:\n",
    "    catalogue = json.load(f)\n",
    "    \n",
    "catalogue = {int(k): v for k, v in catalogue.items()}"
   ]
  },
  {
   "cell_type": "code",
   "execution_count": 4,
   "metadata": {
    "collapsed": true
   },
   "outputs": [],
   "source": [
    "df_catal = pd.DataFrame(catalogue).transpose()"
   ]
  },
  {
   "cell_type": "code",
   "execution_count": 5,
   "metadata": {
    "collapsed": true
   },
   "outputs": [],
   "source": [
    "for i in df_catal.columns.tolist():\n",
    "    if type(df_catal[i][0]) == np.int32:\n",
    "        df_catal[i] = df_catal[i].astype(int)\n",
    "    if type(df_catal[i][0]) == np.float64:\n",
    "        df_catal[i] = df_catal[i].astype(float)"
   ]
  },
  {
   "cell_type": "code",
   "execution_count": 6,
   "metadata": {
    "collapsed": false
   },
   "outputs": [
    {
     "data": {
      "text/html": [
       "<div>\n",
       "<style scoped>\n",
       "    .dataframe tbody tr th:only-of-type {\n",
       "        vertical-align: middle;\n",
       "    }\n",
       "\n",
       "    .dataframe tbody tr th {\n",
       "        vertical-align: top;\n",
       "    }\n",
       "\n",
       "    .dataframe thead th {\n",
       "        text-align: right;\n",
       "    }\n",
       "</style>\n",
       "<table border=\"1\" class=\"dataframe\">\n",
       "  <thead>\n",
       "    <tr style=\"text-align: right;\">\n",
       "      <th></th>\n",
       "      <th>attributes</th>\n",
       "      <th>availability</th>\n",
       "      <th>duration</th>\n",
       "      <th>feature_1</th>\n",
       "      <th>feature_2</th>\n",
       "      <th>feature_3</th>\n",
       "      <th>feature_4</th>\n",
       "      <th>feature_5</th>\n",
       "      <th>type</th>\n",
       "    </tr>\n",
       "  </thead>\n",
       "  <tbody>\n",
       "    <tr>\n",
       "      <th>count</th>\n",
       "      <td>10200</td>\n",
       "      <td>10200</td>\n",
       "      <td>10200</td>\n",
       "      <td>1.020000e+04</td>\n",
       "      <td>10200.000000</td>\n",
       "      <td>10200</td>\n",
       "      <td>10200.000000</td>\n",
       "      <td>10200.000000</td>\n",
       "      <td>10200</td>\n",
       "    </tr>\n",
       "    <tr>\n",
       "      <th>unique</th>\n",
       "      <td>10027</td>\n",
       "      <td>8</td>\n",
       "      <td>25</td>\n",
       "      <td>2.736000e+03</td>\n",
       "      <td>601.000000</td>\n",
       "      <td>49</td>\n",
       "      <td>103.000000</td>\n",
       "      <td>6.000000</td>\n",
       "      <td>3</td>\n",
       "    </tr>\n",
       "    <tr>\n",
       "      <th>top</th>\n",
       "      <td>[27341, 7, 27342, 1241, 25]</td>\n",
       "      <td>[purchase, rent, subscription]</td>\n",
       "      <td>90</td>\n",
       "      <td>9.212964e+06</td>\n",
       "      <td>0.692949</td>\n",
       "      <td>0</td>\n",
       "      <td>1.135231</td>\n",
       "      <td>0.654707</td>\n",
       "      <td>movie</td>\n",
       "    </tr>\n",
       "    <tr>\n",
       "      <th>freq</th>\n",
       "      <td>25</td>\n",
       "      <td>4104</td>\n",
       "      <td>2359</td>\n",
       "      <td>1.450000e+02</td>\n",
       "      <td>440.000000</td>\n",
       "      <td>1739</td>\n",
       "      <td>654.000000</td>\n",
       "      <td>4309.000000</td>\n",
       "      <td>9042</td>\n",
       "    </tr>\n",
       "  </tbody>\n",
       "</table>\n",
       "</div>"
      ],
      "text/plain": [
       "                         attributes                    availability  duration  \\\n",
       "count                         10200                           10200     10200   \n",
       "unique                        10027                               8        25   \n",
       "top     [27341, 7, 27342, 1241, 25]  [purchase, rent, subscription]        90   \n",
       "freq                             25                            4104      2359   \n",
       "\n",
       "           feature_1     feature_2  feature_3     feature_4     feature_5  \\\n",
       "count   1.020000e+04  10200.000000      10200  10200.000000  10200.000000   \n",
       "unique  2.736000e+03    601.000000         49    103.000000      6.000000   \n",
       "top     9.212964e+06      0.692949          0      1.135231      0.654707   \n",
       "freq    1.450000e+02    440.000000       1739    654.000000   4309.000000   \n",
       "\n",
       "         type  \n",
       "count   10200  \n",
       "unique      3  \n",
       "top     movie  \n",
       "freq     9042  "
      ]
     },
     "execution_count": 6,
     "metadata": {},
     "output_type": "execute_result"
    }
   ],
   "source": [
    "df_catal.describe()"
   ]
  },
  {
   "cell_type": "code",
   "execution_count": 7,
   "metadata": {
    "collapsed": false
   },
   "outputs": [
    {
     "data": {
      "text/html": [
       "<div>\n",
       "<style scoped>\n",
       "    .dataframe tbody tr th:only-of-type {\n",
       "        vertical-align: middle;\n",
       "    }\n",
       "\n",
       "    .dataframe tbody tr th {\n",
       "        vertical-align: top;\n",
       "    }\n",
       "\n",
       "    .dataframe thead th {\n",
       "        text-align: right;\n",
       "    }\n",
       "</style>\n",
       "<table border=\"1\" class=\"dataframe\">\n",
       "  <thead>\n",
       "    <tr style=\"text-align: right;\">\n",
       "      <th></th>\n",
       "      <th>attributes</th>\n",
       "      <th>availability</th>\n",
       "      <th>duration</th>\n",
       "      <th>feature_1</th>\n",
       "      <th>feature_2</th>\n",
       "      <th>feature_3</th>\n",
       "      <th>feature_4</th>\n",
       "      <th>feature_5</th>\n",
       "      <th>type</th>\n",
       "    </tr>\n",
       "  </thead>\n",
       "  <tbody>\n",
       "    <tr>\n",
       "      <th>1983</th>\n",
       "      <td>[1, 2, 3, 4, 5, 6, 7, 8, 9, 10, 11, 12, 13, 14...</td>\n",
       "      <td>[purchase, rent, subscription]</td>\n",
       "      <td>140</td>\n",
       "      <td>1.65722e+06</td>\n",
       "      <td>0.75361</td>\n",
       "      <td>39</td>\n",
       "      <td>1.11941</td>\n",
       "      <td>0</td>\n",
       "      <td>movie</td>\n",
       "    </tr>\n",
       "    <tr>\n",
       "      <th>3783</th>\n",
       "      <td>[1, 26, 27, 28, 29, 7, 30, 31, 32, 10, 14, 15,...</td>\n",
       "      <td>[purchase, rent, subscription]</td>\n",
       "      <td>110</td>\n",
       "      <td>3.55652e+07</td>\n",
       "      <td>0.766254</td>\n",
       "      <td>41</td>\n",
       "      <td>1.1386</td>\n",
       "      <td>0.654707</td>\n",
       "      <td>movie</td>\n",
       "    </tr>\n",
       "    <tr>\n",
       "      <th>5208</th>\n",
       "      <td>[1, 38, 39, 40, 7, 41, 42, 43, 14, 15, 17, 18,...</td>\n",
       "      <td>[purchase, rent, subscription]</td>\n",
       "      <td>90</td>\n",
       "      <td>1.32707e+07</td>\n",
       "      <td>0.765425</td>\n",
       "      <td>27</td>\n",
       "      <td>1.13181</td>\n",
       "      <td>0.592716</td>\n",
       "      <td>movie</td>\n",
       "    </tr>\n",
       "    <tr>\n",
       "      <th>9744</th>\n",
       "      <td>[1, 47, 48, 49, 50, 51, 52, 53, 32, 42, 54, 14...</td>\n",
       "      <td>[purchase, rent, subscription]</td>\n",
       "      <td>120</td>\n",
       "      <td>2.17499e+07</td>\n",
       "      <td>0.757874</td>\n",
       "      <td>26</td>\n",
       "      <td>1.13353</td>\n",
       "      <td>0.654707</td>\n",
       "      <td>movie</td>\n",
       "    </tr>\n",
       "    <tr>\n",
       "      <th>1912</th>\n",
       "      <td>[1, 59, 60, 61, 62, 7, 52, 63, 10, 42, 54, 17,...</td>\n",
       "      <td>[purchase, rent]</td>\n",
       "      <td>110</td>\n",
       "      <td>9.21296e+06</td>\n",
       "      <td>0.759566</td>\n",
       "      <td>7</td>\n",
       "      <td>1.11013</td>\n",
       "      <td>0.654707</td>\n",
       "      <td>movie</td>\n",
       "    </tr>\n",
       "  </tbody>\n",
       "</table>\n",
       "</div>"
      ],
      "text/plain": [
       "                                             attributes  \\\n",
       "1983  [1, 2, 3, 4, 5, 6, 7, 8, 9, 10, 11, 12, 13, 14...   \n",
       "3783  [1, 26, 27, 28, 29, 7, 30, 31, 32, 10, 14, 15,...   \n",
       "5208  [1, 38, 39, 40, 7, 41, 42, 43, 14, 15, 17, 18,...   \n",
       "9744  [1, 47, 48, 49, 50, 51, 52, 53, 32, 42, 54, 14...   \n",
       "1912  [1, 59, 60, 61, 62, 7, 52, 63, 10, 42, 54, 17,...   \n",
       "\n",
       "                        availability duration    feature_1 feature_2  \\\n",
       "1983  [purchase, rent, subscription]      140  1.65722e+06   0.75361   \n",
       "3783  [purchase, rent, subscription]      110  3.55652e+07  0.766254   \n",
       "5208  [purchase, rent, subscription]       90  1.32707e+07  0.765425   \n",
       "9744  [purchase, rent, subscription]      120  2.17499e+07  0.757874   \n",
       "1912                [purchase, rent]      110  9.21296e+06  0.759566   \n",
       "\n",
       "     feature_3 feature_4 feature_5   type  \n",
       "1983        39   1.11941         0  movie  \n",
       "3783        41    1.1386  0.654707  movie  \n",
       "5208        27   1.13181  0.592716  movie  \n",
       "9744        26   1.13353  0.654707  movie  \n",
       "1912         7   1.11013  0.654707  movie  "
      ]
     },
     "execution_count": 7,
     "metadata": {},
     "output_type": "execute_result"
    }
   ],
   "source": [
    "df_catal.head()"
   ]
  },
  {
   "cell_type": "code",
   "execution_count": 8,
   "metadata": {
    "collapsed": true
   },
   "outputs": [],
   "source": [
    "df_catal = df_catal.reset_index().rename(columns={'index': 'element_uid'})"
   ]
  },
  {
   "cell_type": "markdown",
   "metadata": {},
   "source": [
    " - `attributes` — мешок атрибутов\n",
    " - `availability` — доступность (может содержать значения `purchase`, `rent` и `subscription`)\n",
    " - `duration` — длительность в минутах, округлённая до десятков (продолжительность серии для сериалов и многосерийных фильмов)\n",
    " - `feature_1..5` — пять анонимизированных вещественных и порядковых признаков\n",
    " - `type` — принимает значения `movie`, `multipart_movie` или `series`"
   ]
  },
  {
   "cell_type": "markdown",
   "metadata": {},
   "source": [
    "---"
   ]
  },
  {
   "cell_type": "markdown",
   "metadata": {},
   "source": [
    "`test_users.json` содержит список пользователей, для которых необходимо построить предсказание"
   ]
  },
  {
   "cell_type": "code",
   "execution_count": 9,
   "metadata": {
    "collapsed": true
   },
   "outputs": [],
   "source": [
    "with open(os.path.join(DATA_PATH, 'test_users2.json'), 'r') as f:\n",
    "    test_users = set(json.load(f)['users'])"
   ]
  },
  {
   "cell_type": "code",
   "execution_count": 10,
   "metadata": {
    "collapsed": false
   },
   "outputs": [
    {
     "data": {
      "text/plain": [
       "50000"
      ]
     },
     "execution_count": 10,
     "metadata": {},
     "output_type": "execute_result"
    }
   ],
   "source": [
    "len(test_users)"
   ]
  },
  {
   "cell_type": "markdown",
   "metadata": {},
   "source": [
    "---"
   ]
  },
  {
   "cell_type": "markdown",
   "metadata": {},
   "source": [
    "`transactions.csv` — список всех транзакций за определённый период времени"
   ]
  },
  {
   "cell_type": "code",
   "execution_count": 11,
   "metadata": {
    "collapsed": false
   },
   "outputs": [
    {
     "name": "stdout",
     "output_type": "stream",
     "text": [
      "Wall time: 23.2 s\n"
     ]
    }
   ],
   "source": [
    "%%time\n",
    "transactions = pd.read_csv(\n",
    "    os.path.join(DATA_PATH, 'transactions.csv'),\n",
    "    dtype={\n",
    "        'element_uid': np.uint16,\n",
    "        'user_uid': np.uint32,\n",
    "        'consumption_mode': 'category',\n",
    "        'ts': np.float64,\n",
    "        'watched_time': np.uint64,\n",
    "        'device_type': np.uint8,\n",
    "        'device_manufacturer': np.uint8\n",
    "    }\n",
    ")"
   ]
  },
  {
   "cell_type": "markdown",
   "metadata": {},
   "source": [
    " - `element_uid` — идентификатор элемента\n",
    " - `user_uid` — идентификатор пользователя\n",
    " - `consumption_mode` — тип потребления (`P` — покупка, `R` — аренда, `S` — просмотр по подписке)\n",
    " - `ts` — время совершения транзакции или начала просмотра в случае просмотра по подписке\n",
    " - `watched_time` — число просмотренных по транзакции секунд\n",
    " - `device_type` — анонимизированный тип устройства, с которого была совершена транзакция или начат просмотр\n",
    " - `device_manufacturer` — анонимизированный производитель устройства, с которого была совершена транзакция или начат просмотр"
   ]
  },
  {
   "cell_type": "markdown",
   "metadata": {},
   "source": [
    "`ratings.csv` содержит информацию о поставленных пользователями оценках"
   ]
  },
  {
   "cell_type": "code",
   "execution_count": 12,
   "metadata": {
    "collapsed": false
   },
   "outputs": [
    {
     "name": "stdout",
     "output_type": "stream",
     "text": [
      "Wall time: 817 ms\n"
     ]
    }
   ],
   "source": [
    "%%time\n",
    "ratings = pd.read_csv(\n",
    "    os.path.join(DATA_PATH, 'ratings.csv'),\n",
    "    dtype={\n",
    "        'element_uid': np.uint16,\n",
    "        'user_uid': np.uint32,\n",
    "        'ts': np.float64,\n",
    "        'rating': np.uint8\n",
    "    }\n",
    ")"
   ]
  },
  {
   "cell_type": "markdown",
   "metadata": {},
   "source": [
    " - `rating` — поставленный пользователем рейтинг (от `0` до `10`)"
   ]
  },
  {
   "cell_type": "markdown",
   "metadata": {},
   "source": [
    "`bookmarks.csv` содержит информацию об элементах, добавленных пользователями в список «Избранное»"
   ]
  },
  {
   "cell_type": "code",
   "execution_count": 13,
   "metadata": {
    "collapsed": false
   },
   "outputs": [
    {
     "name": "stdout",
     "output_type": "stream",
     "text": [
      "Wall time: 1.54 s\n"
     ]
    }
   ],
   "source": [
    "%%time\n",
    "bookmarks = pd.read_csv(\n",
    "    os.path.join(DATA_PATH, 'bookmarks.csv'),\n",
    "    dtype={\n",
    "        'element_uid': np.uint16,\n",
    "        'user_uid': np.uint32,\n",
    "        'ts': np.float64\n",
    "    }\n",
    ")"
   ]
  },
  {
   "cell_type": "markdown",
   "metadata": {},
   "source": [
    "### Формирование целевой переменной"
   ]
  },
  {
   "cell_type": "code",
   "execution_count": null,
   "metadata": {
    "collapsed": true
   },
   "outputs": [],
   "source": []
  },
  {
   "cell_type": "code",
   "execution_count": 14,
   "metadata": {
    "collapsed": false
   },
   "outputs": [
    {
     "data": {
      "text/html": [
       "<div>\n",
       "<style scoped>\n",
       "    .dataframe tbody tr th:only-of-type {\n",
       "        vertical-align: middle;\n",
       "    }\n",
       "\n",
       "    .dataframe tbody tr th {\n",
       "        vertical-align: top;\n",
       "    }\n",
       "\n",
       "    .dataframe thead th {\n",
       "        text-align: right;\n",
       "    }\n",
       "</style>\n",
       "<table border=\"1\" class=\"dataframe\">\n",
       "  <thead>\n",
       "    <tr style=\"text-align: right;\">\n",
       "      <th></th>\n",
       "      <th>element_uid</th>\n",
       "      <th>attributes</th>\n",
       "      <th>availability</th>\n",
       "      <th>duration</th>\n",
       "      <th>feature_1</th>\n",
       "      <th>feature_2</th>\n",
       "      <th>feature_3</th>\n",
       "      <th>feature_4</th>\n",
       "      <th>feature_5</th>\n",
       "      <th>type</th>\n",
       "    </tr>\n",
       "  </thead>\n",
       "  <tbody>\n",
       "    <tr>\n",
       "      <th>0</th>\n",
       "      <td>1983</td>\n",
       "      <td>[1, 2, 3, 4, 5, 6, 7, 8, 9, 10, 11, 12, 13, 14...</td>\n",
       "      <td>[purchase, rent, subscription]</td>\n",
       "      <td>140</td>\n",
       "      <td>1.65722e+06</td>\n",
       "      <td>0.75361</td>\n",
       "      <td>39</td>\n",
       "      <td>1.11941</td>\n",
       "      <td>0</td>\n",
       "      <td>movie</td>\n",
       "    </tr>\n",
       "    <tr>\n",
       "      <th>1</th>\n",
       "      <td>3783</td>\n",
       "      <td>[1, 26, 27, 28, 29, 7, 30, 31, 32, 10, 14, 15,...</td>\n",
       "      <td>[purchase, rent, subscription]</td>\n",
       "      <td>110</td>\n",
       "      <td>3.55652e+07</td>\n",
       "      <td>0.766254</td>\n",
       "      <td>41</td>\n",
       "      <td>1.1386</td>\n",
       "      <td>0.654707</td>\n",
       "      <td>movie</td>\n",
       "    </tr>\n",
       "    <tr>\n",
       "      <th>2</th>\n",
       "      <td>5208</td>\n",
       "      <td>[1, 38, 39, 40, 7, 41, 42, 43, 14, 15, 17, 18,...</td>\n",
       "      <td>[purchase, rent, subscription]</td>\n",
       "      <td>90</td>\n",
       "      <td>1.32707e+07</td>\n",
       "      <td>0.765425</td>\n",
       "      <td>27</td>\n",
       "      <td>1.13181</td>\n",
       "      <td>0.592716</td>\n",
       "      <td>movie</td>\n",
       "    </tr>\n",
       "    <tr>\n",
       "      <th>3</th>\n",
       "      <td>9744</td>\n",
       "      <td>[1, 47, 48, 49, 50, 51, 52, 53, 32, 42, 54, 14...</td>\n",
       "      <td>[purchase, rent, subscription]</td>\n",
       "      <td>120</td>\n",
       "      <td>2.17499e+07</td>\n",
       "      <td>0.757874</td>\n",
       "      <td>26</td>\n",
       "      <td>1.13353</td>\n",
       "      <td>0.654707</td>\n",
       "      <td>movie</td>\n",
       "    </tr>\n",
       "    <tr>\n",
       "      <th>4</th>\n",
       "      <td>1912</td>\n",
       "      <td>[1, 59, 60, 61, 62, 7, 52, 63, 10, 42, 54, 17,...</td>\n",
       "      <td>[purchase, rent]</td>\n",
       "      <td>110</td>\n",
       "      <td>9.21296e+06</td>\n",
       "      <td>0.759566</td>\n",
       "      <td>7</td>\n",
       "      <td>1.11013</td>\n",
       "      <td>0.654707</td>\n",
       "      <td>movie</td>\n",
       "    </tr>\n",
       "  </tbody>\n",
       "</table>\n",
       "</div>"
      ],
      "text/plain": [
       "   element_uid                                         attributes  \\\n",
       "0         1983  [1, 2, 3, 4, 5, 6, 7, 8, 9, 10, 11, 12, 13, 14...   \n",
       "1         3783  [1, 26, 27, 28, 29, 7, 30, 31, 32, 10, 14, 15,...   \n",
       "2         5208  [1, 38, 39, 40, 7, 41, 42, 43, 14, 15, 17, 18,...   \n",
       "3         9744  [1, 47, 48, 49, 50, 51, 52, 53, 32, 42, 54, 14...   \n",
       "4         1912  [1, 59, 60, 61, 62, 7, 52, 63, 10, 42, 54, 17,...   \n",
       "\n",
       "                     availability duration    feature_1 feature_2 feature_3  \\\n",
       "0  [purchase, rent, subscription]      140  1.65722e+06   0.75361        39   \n",
       "1  [purchase, rent, subscription]      110  3.55652e+07  0.766254        41   \n",
       "2  [purchase, rent, subscription]       90  1.32707e+07  0.765425        27   \n",
       "3  [purchase, rent, subscription]      120  2.17499e+07  0.757874        26   \n",
       "4                [purchase, rent]      110  9.21296e+06  0.759566         7   \n",
       "\n",
       "  feature_4 feature_5   type  \n",
       "0   1.11941         0  movie  \n",
       "1    1.1386  0.654707  movie  \n",
       "2   1.13181  0.592716  movie  \n",
       "3   1.13353  0.654707  movie  \n",
       "4   1.11013  0.654707  movie  "
      ]
     },
     "execution_count": 14,
     "metadata": {},
     "output_type": "execute_result"
    }
   ],
   "source": [
    "df_catal.head()"
   ]
  },
  {
   "cell_type": "code",
   "execution_count": 17,
   "metadata": {
    "collapsed": true
   },
   "outputs": [],
   "source": [
    "df_all = pd.merge(transactions, df_catal, how='left', on='element_uid')"
   ]
  },
  {
   "cell_type": "code",
   "execution_count": 18,
   "metadata": {
    "collapsed": true
   },
   "outputs": [],
   "source": [
    "element_agg = df_all.groupby('element_uid').agg({'watched_time': ['mean', 'median']})\n",
    "element_agg.columns = ['elem_watched_time_mean', 'elem_watched_time_median']\n",
    "element_agg.reset_index(inplace=True)\n",
    "df_all = pd.merge(df_all, element_agg, how='left', on='element_uid')"
   ]
  },
  {
   "cell_type": "code",
   "execution_count": 19,
   "metadata": {
    "collapsed": true
   },
   "outputs": [],
   "source": [
    "def func_target(x):\n",
    "    if ((x[0] in set(['series', 'multipart_movie'])) and (x[1] in set(['P', 'R']) or x[1] == 'S' and x[3] > x[4]/3)) or\\\n",
    "    ((x[0] == 'movie') and ((x[1] in set(['P', 'R']) or x[1] == 'S' and x[3] > x[2]*60/2))):\n",
    "        return 1\n",
    "    else:\n",
    "        return 0"
   ]
  },
  {
   "cell_type": "code",
   "execution_count": 20,
   "metadata": {
    "collapsed": false,
    "scrolled": false
   },
   "outputs": [
    {
     "name": "stdout",
     "output_type": "stream",
     "text": [
      "Wall time: 14min 24s\n"
     ]
    }
   ],
   "source": [
    "%%time\n",
    "df_all['target'] = df_all[['type', 'consumption_mode', 'duration', 'watched_time', 'elem_watched_time_median']].apply(func_target, axis=1)"
   ]
  },
  {
   "cell_type": "code",
   "execution_count": 21,
   "metadata": {
    "collapsed": false
   },
   "outputs": [
    {
     "data": {
      "text/plain": [
       "6558159"
      ]
     },
     "execution_count": 21,
     "metadata": {},
     "output_type": "execute_result"
    }
   ],
   "source": [
    "df_all['target'].sum()"
   ]
  },
  {
   "cell_type": "code",
   "execution_count": 22,
   "metadata": {
    "collapsed": true
   },
   "outputs": [],
   "source": [
    "transactions['tmp_target'] = df_all['target']"
   ]
  },
  {
   "cell_type": "markdown",
   "metadata": {},
   "source": [
    "### Формирование признаков для пользователя"
   ]
  },
  {
   "cell_type": "markdown",
   "metadata": {},
   "source": [
    "Исследование распределений пользователей и элементов"
   ]
  },
  {
   "cell_type": "code",
   "execution_count": null,
   "metadata": {
    "collapsed": true
   },
   "outputs": [],
   "source": [
    "n_films = 50\n",
    "data_users = pd.DataFrame(transactions.groupby('user_uid')['element_uid'].count()).sort_values('element_uid', ascending=False)\n",
    "data_n_users = data_users[data_users['element_uid'] >= n_films]\n",
    "print('Пользователей с {}+ фильмами: {}'.format(n_films, data_n_users.shape[0]))\n",
    "n_test_users = sum(data_users.reset_index()[data_users.reset_index()['user_uid'].apply(lambda x: x in test_users)]['element_uid'] >= n_films)\n",
    "print('Пользователей из тестовой выборки с {}+ фильмами: {}'.format(n_films, n_test_users))\n",
    "\n",
    "n_users = 1000\n",
    "data_films = pd.DataFrame(transactions.groupby('element_uid')['user_uid'].count()).sort_values('user_uid', ascending=False)\n",
    "data_n_films = data_films[data_films['user_uid'] >= n_users]\n",
    "print('Фильмов с {}+ просмотров: {}'.format(n_users, data_n_films.shape[0]))\n",
    "\n",
    "shape0 = sum(data_films['user_uid'] >= n_users)*(sum(data_users['element_uid'] >= n_films)-n_test_users)\n",
    "print('Итоговый размер датасета для классификации: {}'.format(shape0))\n",
    "\n",
    "class1 = sum((transactions['user_uid'].isin(data_n_users.index.tolist())) & (transactions['element_uid'].isin(data_n_films.index.tolist()))\\\n",
    "                                                             & ~(transactions['user_uid'].isin(test_users)))\n",
    "print('Кол-во в датасете элементов класса 1: {}'.format(class1))\n",
    "print('Доля элементов класса 1: {}%'.format(round(class1/shape0*100, 1)))\n",
    "\n",
    "\n",
    "# Гистограммы пользователей и элементов\n",
    "fig, axes = plt.subplots(1, 2, figsize=(15, 5))\n",
    "axes[0].hist(data_users[data_users['element_uid']<200]['element_uid'].tolist(), bins=100)\n",
    "axes[0].hist(data_users[(data_users['element_uid']<200)&(data_users['element_uid']>=50)]['element_uid'].tolist(), color='red', bins=75)\n",
    "axes[0].set_ylabel('Number of users');\n",
    "axes[0].set_xlabel('Number of watched movies');\n",
    "axes[0].title.set_text('Users');\n",
    "axes[0].legend(['data_users','data_n_users']);\n",
    "\n",
    "axes[1].hist(data_films[data_films['user_uid']<5000]['user_uid'].tolist(), bins=100)\n",
    "axes[1].hist(data_films[(data_films['user_uid']<5000)&(data_films['user_uid']>=1000)]['user_uid'].tolist(), color='red', bins=80);\n",
    "axes[1].set_ylabel('Number of element');\n",
    "axes[1].set_xlabel('Number of users');\n",
    "axes[1].title.set_text('Elements');\n",
    "axes[1].legend(['data_elements','data_n_elements']);\n"
   ]
  },
  {
   "cell_type": "code",
   "execution_count": null,
   "metadata": {
    "collapsed": true
   },
   "outputs": [],
   "source": [
    "data_tr = pd.DataFrame(data=df_all.groupby('user_uid')['element_uid'].count()).reset_index().rename(columns={'element_uid': 'count_trx'})"
   ]
  },
  {
   "cell_type": "code",
   "execution_count": null,
   "metadata": {
    "collapsed": true
   },
   "outputs": [],
   "source": [
    "def get_new_columns(name, aggs):\n",
    "    return [name + '_' + k + '_' + agg for k in aggs.keys() for agg in aggs[k]]\n",
    "\n",
    "def feat_group(df, col_group, aggs, data, column=None):\n",
    "    if column==None:\n",
    "        d = df.groupby([col_group]).agg(aggs)\n",
    "        cols = [k + '_' + agg for k in aggs.keys() for agg in aggs[k]]\n",
    "        d.columns = cols\n",
    "        d.reset_index(drop=False,inplace=True)\n",
    "        data = pd.merge(data, d, on=col_group, how='left')\n",
    "    else:\n",
    "        for c in df[column].unique():\n",
    "            d = df[df[column]==c].groupby([col_group, column]).agg(aggs)\n",
    "            cols = [c + '_' + k + '_' + agg for k in aggs.keys() for agg in aggs[k]]\n",
    "            d.columns = cols\n",
    "            d.reset_index(drop=False,inplace=True)\n",
    "            d.drop(column, axis=1, inplace=True)\n",
    "            data = pd.merge(data, d, on=col_group, how='left')\n",
    "            \n",
    "    return data"
   ]
  },
  {
   "cell_type": "code",
   "execution_count": null,
   "metadata": {
    "collapsed": true
   },
   "outputs": [],
   "source": [
    "df_all['duration'] = df_all['duration'].astype(int)\n",
    "for col in ['feature_1', 'feature_2', 'feature_3', 'feature_4', 'feature_5']:\n",
    "    df_all[col] = df_all['duration'].astype(float)\n",
    "\n",
    "df_all['diff_ts'] = -df_all.groupby('user_uid')['ts'].diff().fillna(0).astype(int)"
   ]
  },
  {
   "cell_type": "code",
   "execution_count": null,
   "metadata": {
    "collapsed": true
   },
   "outputs": [],
   "source": [
    "aggs1 = {'watched_time': ['mean', 'sum'],\n",
    "        'duration': ['mean', 'sum', 'std', 'min', 'max']\n",
    "       }\n",
    "data_tr = feat_group(df_all, col_group='user_uid', aggs = aggs1, data=data_tr, column='consumption_mode')\n",
    "data_tr = feat_group(df_all, col_group='user_uid', aggs = aggs1, data=data_tr, column='type')"
   ]
  },
  {
   "cell_type": "code",
   "execution_count": null,
   "metadata": {
    "collapsed": true
   },
   "outputs": [],
   "source": [
    "aggs2 = {'ts': ['max', 'min'],\n",
    "         'diff_ts': ['mean', 'std', 'max'],\n",
    "         'duration': ['mean', 'max', 'min'],\n",
    "         'device_type': ['nunique'],\n",
    "         'device_manufacturer': ['nunique'],\n",
    "         'feature_1': ['nunique', 'mean'],\n",
    "         'feature_2': ['mean'],\n",
    "         'feature_3': ['mean'],\n",
    "         'feature_4': ['mean'],\n",
    "         'feature_5': ['mean']\n",
    "        }\n",
    "data_tr = feat_group(df_all, col_group='user_uid', aggs = aggs2, data=data_tr, column=None)"
   ]
  },
  {
   "cell_type": "code",
   "execution_count": null,
   "metadata": {
    "collapsed": true
   },
   "outputs": [],
   "source": [
    "ratings['diff_ts'] = -ratings.groupby('user_uid')['ts'].diff().fillna(0).astype(int)"
   ]
  },
  {
   "cell_type": "code",
   "execution_count": null,
   "metadata": {
    "collapsed": true
   },
   "outputs": [],
   "source": [
    "agg_r = {'ts': ['max', 'min'],\n",
    "         'diff_ts': ['mean', 'std', 'max'],\n",
    "         'rating': ['mean', 'max', 'min', 'std', 'nunique']\n",
    "         }\n",
    "d = ratings.groupby('user_uid').agg(agg_r)\n",
    "d.columns = get_new_columns('rate', agg_r)\n",
    "d.reset_index(drop=False,inplace=True)\n",
    "#d['user_uid'] = d['user_uid'].astype('O')\n",
    "d['rate_count'] = ratings.groupby('user_uid')['element_uid'].count()\n",
    "data_tr = pd.merge(data_tr, d, on='user_uid', how='left')"
   ]
  },
  {
   "cell_type": "code",
   "execution_count": null,
   "metadata": {
    "collapsed": true
   },
   "outputs": [],
   "source": [
    "data_tr.head()"
   ]
  },
  {
   "cell_type": "code",
   "execution_count": null,
   "metadata": {
    "collapsed": true
   },
   "outputs": [],
   "source": [
    "bookmarks['diff_ts'] = -bookmarks.groupby('user_uid')['ts'].diff().fillna(0).astype(int)"
   ]
  },
  {
   "cell_type": "code",
   "execution_count": null,
   "metadata": {
    "collapsed": true
   },
   "outputs": [],
   "source": [
    "agg_bm = {'ts': ['max', 'min'],\n",
    "         'diff_ts': ['mean', 'std', 'max'],\n",
    "         }\n",
    "d = bookmarks.groupby('user_uid').agg(agg_bm)\n",
    "d.columns = get_new_columns('book', agg_bm)\n",
    "d.reset_index(drop=False,inplace=True)\n",
    "#d['user_uid'] = d['user_uid'].astype('O')\n",
    "d['book_count'] = bookmarks.groupby('user_uid')['element_uid'].count()\n",
    "data_tr = pd.merge(data_tr, d, on='user_uid', how='left')"
   ]
  },
  {
   "cell_type": "code",
   "execution_count": null,
   "metadata": {
    "collapsed": true
   },
   "outputs": [],
   "source": [
    "data_tr.head()"
   ]
  },
  {
   "cell_type": "markdown",
   "metadata": {},
   "source": [
    "### Формирование признаков для элементов"
   ]
  },
  {
   "cell_type": "code",
   "execution_count": null,
   "metadata": {
    "collapsed": true
   },
   "outputs": [],
   "source": [
    "df_catal.head()"
   ]
  },
  {
   "cell_type": "code",
   "execution_count": null,
   "metadata": {
    "collapsed": true
   },
   "outputs": [],
   "source": []
  },
  {
   "cell_type": "code",
   "execution_count": null,
   "metadata": {
    "collapsed": true
   },
   "outputs": [],
   "source": []
  },
  {
   "cell_type": "code",
   "execution_count": null,
   "metadata": {
    "collapsed": true
   },
   "outputs": [],
   "source": []
  },
  {
   "cell_type": "code",
   "execution_count": null,
   "metadata": {
    "collapsed": true
   },
   "outputs": [],
   "source": []
  },
  {
   "cell_type": "code",
   "execution_count": null,
   "metadata": {
    "collapsed": true
   },
   "outputs": [],
   "source": []
  },
  {
   "cell_type": "code",
   "execution_count": null,
   "metadata": {
    "collapsed": true
   },
   "outputs": [],
   "source": []
  },
  {
   "cell_type": "markdown",
   "metadata": {},
   "source": [
    "## Модель"
   ]
  },
  {
   "cell_type": "code",
   "execution_count": 23,
   "metadata": {
    "collapsed": false
   },
   "outputs": [
    {
     "name": "stderr",
     "output_type": "stream",
     "text": [
      "C:\\Users\\Xiaomi\\Anaconda3\\lib\\site-packages\\ipykernel_launcher.py:2: SettingWithCopyWarning: \n",
      "A value is trying to be set on a copy of a slice from a DataFrame.\n",
      "Try using .loc[row_indexer,col_indexer] = value instead\n",
      "\n",
      "See the caveats in the documentation: http://pandas.pydata.org/pandas-docs/stable/indexing.html#indexing-view-versus-copy\n",
      "  \n",
      "C:\\Users\\Xiaomi\\Anaconda3\\lib\\site-packages\\ipykernel_launcher.py:3: SettingWithCopyWarning: \n",
      "A value is trying to be set on a copy of a slice from a DataFrame.\n",
      "Try using .loc[row_indexer,col_indexer] = value instead\n",
      "\n",
      "See the caveats in the documentation: http://pandas.pydata.org/pandas-docs/stable/indexing.html#indexing-view-versus-copy\n",
      "  This is separate from the ipykernel package so we can avoid doing imports until\n"
     ]
    }
   ],
   "source": [
    "transactions_new = transactions[transactions['tmp_target']==1]\n",
    "transactions_new['user_uid'] = transactions_new['user_uid'].astype('category')\n",
    "transactions_new['element_uid'] = transactions_new['element_uid'].astype('category')\n",
    "\n",
    "transactions_matrix = sp.coo_matrix(\n",
    "    (transactions_new['tmp_target'].astype(np.float32) + 1,\n",
    "        (\n",
    "            transactions_new['element_uid'].cat.codes.copy(),\n",
    "            transactions_new['user_uid'].cat.codes.copy()\n",
    "        )\n",
    "    )\n",
    ")\n",
    "\n",
    "transactions_matrix = transactions_matrix.tocsr()"
   ]
  },
  {
   "cell_type": "code",
   "execution_count": 24,
   "metadata": {
    "collapsed": false
   },
   "outputs": [
    {
     "name": "stderr",
     "output_type": "stream",
     "text": [
      "100%|███████████████████████████████████████████████████████████████████████████| 8221/8221 [00:00<00:00, 14946.23it/s]\n"
     ]
    }
   ],
   "source": [
    "model2 = TFIDFRecommender()\n",
    "model2.fit(transactions_matrix)"
   ]
  },
  {
   "cell_type": "code",
   "execution_count": 25,
   "metadata": {
    "collapsed": true
   },
   "outputs": [],
   "source": [
    "transactions_matrix_T = transactions_matrix.T.tocsr()"
   ]
  },
  {
   "cell_type": "code",
   "execution_count": 27,
   "metadata": {
    "collapsed": true
   },
   "outputs": [],
   "source": [
    "user_uid_to_cat2 = dict(zip(\n",
    "    transactions_new['user_uid'].cat.categories,\n",
    "    range(len(transactions_new['user_uid'].cat.categories))\n",
    "))"
   ]
  },
  {
   "cell_type": "code",
   "execution_count": 28,
   "metadata": {
    "collapsed": true
   },
   "outputs": [],
   "source": [
    "element_uid_to_cat2 = dict(zip(\n",
    "    transactions_new['element_uid'].cat.categories,\n",
    "    range(len(transactions_new['element_uid'].cat.categories))\n",
    "))"
   ]
  },
  {
   "cell_type": "code",
   "execution_count": 31,
   "metadata": {
    "collapsed": true
   },
   "outputs": [],
   "source": [
    "filtered_elements_cat2 = {k: [element_uid_to_cat2.get(x, None) for x in v] for k, v in filtered_elements.items()}"
   ]
  },
  {
   "cell_type": "code",
   "execution_count": 33,
   "metadata": {
    "collapsed": false
   },
   "outputs": [
    {
     "name": "stderr",
     "output_type": "stream",
     "text": [
      "100%|██████████████████████████████████████████████████████████████████████████| 50000/50000 [00:05<00:00, 8558.68it/s]\n"
     ]
    }
   ],
   "source": [
    "result2 = {}\n",
    "\n",
    "for user_uid in tqdm.tqdm(test_users):\n",
    "    # transform user_uid to model's internal user category\n",
    "    try:\n",
    "        user_cat = user_uid_to_cat2[user_uid]\n",
    "    except LookupError:\n",
    "        continue\n",
    "    \n",
    "    # perform inference\n",
    "    recs = model2.recommend(\n",
    "        user_cat,\n",
    "        transactions_matrix_T,\n",
    "        N=20,\n",
    "        filter_already_liked_items=True,\n",
    "        filter_items=filtered_elements_cat2.get(user_uid, set())\n",
    "    )\n",
    "    \n",
    "    # drop scores and transform model's internal elelemnt category to element_uid for every prediction\n",
    "    # also convert np.uint64 to int so it could be json serialized later\n",
    "    result2[user_uid] = [int(transactions_new['element_uid'].cat.categories[i]) for i, _ in recs]"
   ]
  },
  {
   "cell_type": "code",
   "execution_count": 34,
   "metadata": {
    "collapsed": true
   },
   "outputs": [],
   "source": [
    "with open('my_answer_new_target3.json', 'w') as f:\n",
    "    json.dump(result2, f)"
   ]
  },
  {
   "cell_type": "code",
   "execution_count": null,
   "metadata": {
    "collapsed": true
   },
   "outputs": [],
   "source": [
    "import itertools\n",
    "somelists = [[1, 2, 3], [51, 52]]\n",
    "a = itertools.product(*somelists)\n",
    "pd.DataFrame({'u': [i[0] for i in itertools.product(*somelists)],\n",
    "'e': [i[1] for i in itertools.product(*somelists)]})"
   ]
  },
  {
   "cell_type": "code",
   "execution_count": null,
   "metadata": {
    "collapsed": true
   },
   "outputs": [],
   "source": [
    "#matplotlib.rcParams['figure.figsize'] = (20, 20)\n",
    "#sns.heatmap(data_tr.corr(), cmap=\"YlGnBu\");"
   ]
  },
  {
   "cell_type": "markdown",
   "metadata": {},
   "source": [
    "### Решение"
   ]
  },
  {
   "cell_type": "markdown",
   "metadata": {},
   "source": [
    "Для начала построим список элементов, которые тестовые пользователи уже купили или посмотрели по подписке: они не смогут купить их второй раз, а просмотр по подписке второй раз маловероятен, поэтому мы захотим отфильтровать такие элементы из финального ответа.\n",
    "\n",
    "Точно так же можно поступить и с рейтингами и добавлениями в избранное, если это будет казаться правильным."
   ]
  },
  {
   "cell_type": "code",
   "execution_count": 30,
   "metadata": {
    "collapsed": false
   },
   "outputs": [
    {
     "name": "stderr",
     "output_type": "stream",
     "text": [
      "100%|████████████████████████████████████████████████████████████████████| 9643012/9643012 [00:15<00:00, 632856.14it/s]\n"
     ]
    }
   ],
   "source": [
    "from collections import defaultdict\n",
    "\n",
    "filtered_elements = defaultdict(set)\n",
    "\n",
    "for user_uid, element_uid in tqdm.tqdm(transactions.loc[:, ['user_uid', 'element_uid']].values):\n",
    "    if user_uid not in test_users:\n",
    "        continue\n",
    "    filtered_elements[user_uid].add(element_uid)"
   ]
  },
  {
   "cell_type": "code",
   "execution_count": null,
   "metadata": {
    "collapsed": true
   },
   "outputs": [],
   "source": [
    "#for element_uid in tqdm.tqdm(df_catal[df_catal['availability'].apply(lambda x: len(x))==0]['element_uid'].values.tolist()):\n",
    "    #for user_uid in test_users:\n",
    "        #filtered_elements[user_uid].add(element_uid)"
   ]
  },
  {
   "cell_type": "markdown",
   "metadata": {},
   "source": [
    "---"
   ]
  },
  {
   "cell_type": "markdown",
   "metadata": {},
   "source": [
    "Для примера мы воспользуемся методом K ближайших соседей, реализованным в библиотеке `implicit`. В качестве данных используем только информацию о рейтингах.\n",
    "\n",
    "Необходимо построить разреженную матрицу, где строкам будут соответствовать элементы, столбцам — пользователи, а на пересечении пользователя и элемента будет находиться количественная оценка степени их взаимодействия, если таковое имело место.\n",
    "\n",
    "Не забудем добавить `1` к рейтингу, чтобы избежать деления на ноль во время вычисления `tf-idf`."
   ]
  },
  {
   "cell_type": "code",
   "execution_count": null,
   "metadata": {
    "collapsed": true
   },
   "outputs": [],
   "source": [
    "ratings['user_uid'] = ratings['user_uid'].astype('category')\n",
    "ratings['element_uid'] = ratings['element_uid'].astype('category')\n",
    "\n",
    "ratings_matrix = sp.coo_matrix(\n",
    "    (ratings['rating'].astype(np.float32) + 1,\n",
    "        (\n",
    "            ratings['element_uid'].cat.codes.copy(),\n",
    "            ratings['user_uid'].cat.codes.copy()\n",
    "        )\n",
    "    )\n",
    ")\n",
    "\n",
    "ratings_matrix = ratings_matrix.tocsr()"
   ]
  },
  {
   "cell_type": "code",
   "execution_count": null,
   "metadata": {
    "collapsed": true
   },
   "outputs": [],
   "source": [
    "sparsity = ratings_matrix.nnz / (ratings_matrix.shape[0] * ratings_matrix.shape[1])\n",
    "print('Sparsity: %.6f' % sparsity)"
   ]
  },
  {
   "cell_type": "markdown",
   "metadata": {},
   "source": [
    "Обучить модель крайне просто."
   ]
  },
  {
   "cell_type": "code",
   "execution_count": null,
   "metadata": {
    "collapsed": true
   },
   "outputs": [],
   "source": [
    "from implicit.nearest_neighbours import TFIDFRecommender\n",
    "\n",
    "model = TFIDFRecommender()\n",
    "model.fit(ratings_matrix)"
   ]
  },
  {
   "cell_type": "markdown",
   "metadata": {},
   "source": []
  },
  {
   "cell_type": "code",
   "execution_count": null,
   "metadata": {
    "collapsed": true
   },
   "outputs": [],
   "source": [
    "ratings_matrix_T = ratings_matrix.T.tocsr()"
   ]
  },
  {
   "cell_type": "markdown",
   "metadata": {},
   "source": [
    "Отображения из оригинальной категории во внутреннюю пригодится нам в дальнейшем."
   ]
  },
  {
   "cell_type": "code",
   "execution_count": null,
   "metadata": {
    "collapsed": true
   },
   "outputs": [],
   "source": [
    "user_uid_to_cat = dict(zip(\n",
    "    ratings['user_uid'].cat.categories,\n",
    "    range(len(ratings['user_uid'].cat.categories))\n",
    "))"
   ]
  },
  {
   "cell_type": "code",
   "execution_count": null,
   "metadata": {
    "collapsed": true
   },
   "outputs": [],
   "source": [
    "element_uid_to_cat = dict(zip(\n",
    "    ratings['element_uid'].cat.categories,\n",
    "    range(len(ratings['element_uid'].cat.categories))\n",
    "))"
   ]
  },
  {
   "cell_type": "code",
   "execution_count": null,
   "metadata": {
    "collapsed": true
   },
   "outputs": [],
   "source": [
    "filtered_elements_cat = {k: [element_uid_to_cat.get(x, None) for x in v] for k, v in filtered_elements.items()}"
   ]
  },
  {
   "cell_type": "markdown",
   "metadata": {},
   "source": [
    "---"
   ]
  },
  {
   "cell_type": "markdown",
   "metadata": {},
   "source": [
    "В метод `model.recommend` мы передаём идентификатор пользователя, который получаем обратным преобразованием из категории, транспонированную матрицу взаимодействий, число необходимых рекомендаций и список элементов, которые мы договорились фильтровать из ответа.\n",
    "\n",
    "Возвращает метод список пар (`element_cat`, `score`), отсортированный по вторым элементам. Из него необходимо достать все первые элементы пар и из категории преобразовать их к `element_uid`."
   ]
  },
  {
   "cell_type": "markdown",
   "metadata": {},
   "source": [
    "**Важно:** Не все тестовые пользователи есть в `ratings.csv` и не все из них есть в `transactions.csv`. Используя только один источник данных мы не можем построить полное предсказание. Такой ответ с неполным числом пользователей будет принят системой, но при вычислении средней метрики метрика для отсутствующих пользователей будет принята равной нулю."
   ]
  },
  {
   "cell_type": "code",
   "execution_count": null,
   "metadata": {
    "collapsed": true
   },
   "outputs": [],
   "source": [
    "result = {}\n",
    "\n",
    "for user_uid in tqdm.tqdm(test_users):\n",
    "    # transform user_uid to model's internal user category\n",
    "    try:\n",
    "        user_cat = user_uid_to_cat[user_uid]\n",
    "    except LookupError:\n",
    "        continue\n",
    "    \n",
    "    # perform inference\n",
    "    recs = model.recommend(\n",
    "        user_cat,\n",
    "        ratings_matrix_T,\n",
    "        N=20,\n",
    "        filter_already_liked_items=True,\n",
    "        filter_items=filtered_elements_cat.get(user_uid, set())\n",
    "    )\n",
    "    \n",
    "    # drop scores and transform model's internal elelemnt category to element_uid for every prediction\n",
    "    # also convert np.uint64 to int so it could be json serialized later\n",
    "    result[user_uid] = [int(ratings['element_uid'].cat.categories[i]) for i, _ in recs]"
   ]
  },
  {
   "cell_type": "code",
   "execution_count": null,
   "metadata": {
    "collapsed": true
   },
   "outputs": [],
   "source": [
    "len(result)"
   ]
  },
  {
   "cell_type": "markdown",
   "metadata": {},
   "source": [
    "Используя только информацию о рейтингах мы смогли построить предсказание для `16784` из `50000` тестовых пользователей. Ровно в таком виде ответы и стоит сохранить для отправки."
   ]
  },
  {
   "cell_type": "code",
   "execution_count": null,
   "metadata": {
    "collapsed": true
   },
   "outputs": [],
   "source": [
    "with open('answer.json', 'w') as f:\n",
    "    json.dump(result, f)"
   ]
  },
  {
   "cell_type": "code",
   "execution_count": null,
   "metadata": {
    "collapsed": true
   },
   "outputs": [],
   "source": [
    "result3 = result2\n",
    "for i in result2.keys():\n",
    "    if i in set(result.keys()):\n",
    "        result3[i] = result[i]"
   ]
  },
  {
   "cell_type": "code",
   "execution_count": null,
   "metadata": {
    "collapsed": true
   },
   "outputs": [],
   "source": [
    "with open('my_answer_txn+rat.json', 'w') as f:\n",
    "    json.dump(result3, f)"
   ]
  },
  {
   "cell_type": "markdown",
   "metadata": {},
   "source": [
    "### Идеи\n",
    "1. Генерировать негативные примеры равномерно или пропорционально популярности"
   ]
  },
  {
   "cell_type": "code",
   "execution_count": null,
   "metadata": {
    "collapsed": true
   },
   "outputs": [],
   "source": []
  },
  {
   "cell_type": "code",
   "execution_count": null,
   "metadata": {
    "collapsed": true
   },
   "outputs": [],
   "source": []
  }
 ],
 "metadata": {
  "kernelspec": {
   "display_name": "Python 3",
   "language": "python",
   "name": "python3"
  },
  "language_info": {
   "codemirror_mode": {
    "name": "ipython",
    "version": 3
   },
   "file_extension": ".py",
   "mimetype": "text/x-python",
   "name": "python",
   "nbconvert_exporter": "python",
   "pygments_lexer": "ipython3",
   "version": "3.6.4"
  }
 },
 "nbformat": 4,
 "nbformat_minor": 2
}

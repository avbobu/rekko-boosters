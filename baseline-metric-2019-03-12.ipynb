{
 "cells": [
  {
   "cell_type": "markdown",
   "metadata": {},
   "source": [
    "# Rekko challenge 2019\n",
    "\n",
    "```\n",
    "                           /$$$$$$$  /$$$$$$$$ /$$   /$$ /$$   /$$  /$$$$$$ \n",
    "                          | $$__  $$| $$_____/| $$  /$$/| $$  /$$/ /$$__  $$\n",
    "                          | $$  \\ $$| $$      | $$ /$$/ | $$ /$$/ | $$  \\ $$\n",
    "                          | $$$$$$$/| $$$$$   | $$$$$/  | $$$$$/  | $$  | $$\n",
    "                          | $$__  $$| $$__/   | $$  $$  | $$  $$  | $$  | $$\n",
    "                          | $$  \\ $$| $$      | $$\\  $$ | $$\\  $$ | $$  | $$\n",
    "                          | $$  | $$| $$$$$$$$| $$ \\  $$| $$ \\  $$|  $$$$$$/\n",
    "                          |__/  |__/|________/|__/  \\__/|__/  \\__/ \\______/ \n",
    "                                                                            \n",
    "```"
   ]
  },
  {
   "cell_type": "markdown",
   "metadata": {},
   "source": [
    "Добро пожаловать на соревнование по машинному обучению от онлайн-кинотеатра [Okko](http://okko.tv) Rekko Challenge 2019.\n",
    "\n",
    "В этом ноутбуке мы покажем вам пример простого но полного решения, от загрузки данных до формирования ответа. Для работы нам понадобятся библиотеки `pandas`, `numpy`, `scipy`, `implicit`, `pprint`, `tqdm`. Установить их в вашем рабочем окружении можно следующей командой.\n",
    "```\n",
    "pip install pandas numpy scipy implicit pprint tqdm\n",
    "```"
   ]
  },
  {
   "cell_type": "code",
   "execution_count": 1,
   "metadata": {
    "collapsed": true
   },
   "outputs": [],
   "source": [
    "import os\n",
    "import json\n",
    "import pandas as pd\n",
    "import numpy as np\n",
    "import tqdm\n",
    "import scipy.sparse as sp\n",
    "import seaborn as sns\n",
    "import matplotlib as plt \n",
    "%matplotlib inline\n",
    "\n",
    "from pprint import pprint"
   ]
  },
  {
   "cell_type": "markdown",
   "metadata": {},
   "source": [
    "### Загрузка данных"
   ]
  },
  {
   "cell_type": "markdown",
   "metadata": {},
   "source": [
    "Замените `DATA_PATH` на путь к данным, которые вы скачали со страницы соревнования."
   ]
  },
  {
   "cell_type": "code",
   "execution_count": 2,
   "metadata": {
    "collapsed": true
   },
   "outputs": [],
   "source": [
    "DATA_PATH = './data'"
   ]
  },
  {
   "cell_type": "markdown",
   "metadata": {},
   "source": [
    "---"
   ]
  },
  {
   "cell_type": "markdown",
   "metadata": {},
   "source": [
    "`catalogue.json` содержит анонимизированную метаинформацию о доступных в сервисе фильмах и сериалах."
   ]
  },
  {
   "cell_type": "code",
   "execution_count": 3,
   "metadata": {
    "collapsed": false
   },
   "outputs": [],
   "source": [
    "with open(os.path.join(DATA_PATH, 'catalogue.json'), 'r') as f:\n",
    "    catalogue = json.load(f)\n",
    "\n",
    "type(catalogue)\n",
    "catalogue = {int(k): v for k, v in catalogue.items()}"
   ]
  },
  {
   "cell_type": "code",
   "execution_count": 4,
   "metadata": {
    "collapsed": false
   },
   "outputs": [
    {
     "data": {
      "text/plain": [
       "10200"
      ]
     },
     "execution_count": 4,
     "metadata": {},
     "output_type": "execute_result"
    }
   ],
   "source": [
    "len(catalogue)"
   ]
  },
  {
   "cell_type": "code",
   "execution_count": 5,
   "metadata": {
    "collapsed": false
   },
   "outputs": [
    {
     "name": "stdout",
     "output_type": "stream",
     "text": [
      "{'attributes': [31115, 6713, 10906, 31116, 31117, 270, 24431, 42, 31118, 31119],\n",
      " 'availability': [],\n",
      " 'duration': 80,\n",
      " 'feature_1': 29121982.214158818,\n",
      " 'feature_2': 0.5752595062,\n",
      " 'feature_3': 0,\n",
      " 'feature_4': 1.1283323575,\n",
      " 'feature_5': 0.6547073468,\n",
      " 'type': 'movie'}\n"
     ]
    }
   ],
   "source": [
    "pprint(catalogue[0])"
   ]
  },
  {
   "cell_type": "markdown",
   "metadata": {},
   "source": [
    "#### Превращаем каталог в DataFrame"
   ]
  },
  {
   "cell_type": "code",
   "execution_count": 6,
   "metadata": {
    "collapsed": false,
    "scrolled": true
   },
   "outputs": [],
   "source": [
    "df_catalogue = pd.DataFrame.from_dict(catalogue, orient='index')"
   ]
  },
  {
   "cell_type": "code",
   "execution_count": 7,
   "metadata": {
    "collapsed": false
   },
   "outputs": [
    {
     "data": {
      "text/html": [
       "<div>\n",
       "<style scoped>\n",
       "    .dataframe tbody tr th:only-of-type {\n",
       "        vertical-align: middle;\n",
       "    }\n",
       "\n",
       "    .dataframe tbody tr th {\n",
       "        vertical-align: top;\n",
       "    }\n",
       "\n",
       "    .dataframe thead th {\n",
       "        text-align: right;\n",
       "    }\n",
       "</style>\n",
       "<table border=\"1\" class=\"dataframe\">\n",
       "  <thead>\n",
       "    <tr style=\"text-align: right;\">\n",
       "      <th></th>\n",
       "      <th>type</th>\n",
       "      <th>availability</th>\n",
       "      <th>duration</th>\n",
       "      <th>feature_1</th>\n",
       "      <th>feature_2</th>\n",
       "      <th>feature_3</th>\n",
       "      <th>feature_4</th>\n",
       "      <th>feature_5</th>\n",
       "      <th>attributes</th>\n",
       "    </tr>\n",
       "  </thead>\n",
       "  <tbody>\n",
       "    <tr>\n",
       "      <th>0</th>\n",
       "      <td>movie</td>\n",
       "      <td>[]</td>\n",
       "      <td>80</td>\n",
       "      <td>2.912198e+07</td>\n",
       "      <td>0.575260</td>\n",
       "      <td>0</td>\n",
       "      <td>1.128332</td>\n",
       "      <td>0.654707</td>\n",
       "      <td>[31115, 6713, 10906, 31116, 31117, 270, 24431,...</td>\n",
       "    </tr>\n",
       "    <tr>\n",
       "      <th>1</th>\n",
       "      <td>movie</td>\n",
       "      <td>[purchase, rent]</td>\n",
       "      <td>120</td>\n",
       "      <td>6.610431e+06</td>\n",
       "      <td>0.773224</td>\n",
       "      <td>3</td>\n",
       "      <td>1.112014</td>\n",
       "      <td>0.654707</td>\n",
       "      <td>[2786, 385, 2799, 3730, 886, 7, 11700, 42, 20,...</td>\n",
       "    </tr>\n",
       "    <tr>\n",
       "      <th>2</th>\n",
       "      <td>movie</td>\n",
       "      <td>[]</td>\n",
       "      <td>80</td>\n",
       "      <td>1.315874e+07</td>\n",
       "      <td>0.699502</td>\n",
       "      <td>0</td>\n",
       "      <td>1.110127</td>\n",
       "      <td>0.680410</td>\n",
       "      <td>[31442, 31443, 31444, 31445, 113, 31446, 42, 3...</td>\n",
       "    </tr>\n",
       "    <tr>\n",
       "      <th>3</th>\n",
       "      <td>series</td>\n",
       "      <td>[]</td>\n",
       "      <td>20</td>\n",
       "      <td>4.157712e+07</td>\n",
       "      <td>0.702981</td>\n",
       "      <td>0</td>\n",
       "      <td>1.141929</td>\n",
       "      <td>0.654707</td>\n",
       "      <td>[34361, 34362, 23033, 14887, 270, 20089, 43, 25]</td>\n",
       "    </tr>\n",
       "    <tr>\n",
       "      <th>4</th>\n",
       "      <td>movie</td>\n",
       "      <td>[purchase, rent, subscription]</td>\n",
       "      <td>70</td>\n",
       "      <td>3.999579e+07</td>\n",
       "      <td>0.626596</td>\n",
       "      <td>8</td>\n",
       "      <td>1.130076</td>\n",
       "      <td>0.592716</td>\n",
       "      <td>[26732, 26733, 26734, 9367, 7792, 336, 26735, ...</td>\n",
       "    </tr>\n",
       "  </tbody>\n",
       "</table>\n",
       "</div>"
      ],
      "text/plain": [
       "     type                    availability  duration     feature_1  feature_2  \\\n",
       "0   movie                              []        80  2.912198e+07   0.575260   \n",
       "1   movie                [purchase, rent]       120  6.610431e+06   0.773224   \n",
       "2   movie                              []        80  1.315874e+07   0.699502   \n",
       "3  series                              []        20  4.157712e+07   0.702981   \n",
       "4   movie  [purchase, rent, subscription]        70  3.999579e+07   0.626596   \n",
       "\n",
       "   feature_3  feature_4  feature_5  \\\n",
       "0          0   1.128332   0.654707   \n",
       "1          3   1.112014   0.654707   \n",
       "2          0   1.110127   0.680410   \n",
       "3          0   1.141929   0.654707   \n",
       "4          8   1.130076   0.592716   \n",
       "\n",
       "                                          attributes  \n",
       "0  [31115, 6713, 10906, 31116, 31117, 270, 24431,...  \n",
       "1  [2786, 385, 2799, 3730, 886, 7, 11700, 42, 20,...  \n",
       "2  [31442, 31443, 31444, 31445, 113, 31446, 42, 3...  \n",
       "3   [34361, 34362, 23033, 14887, 270, 20089, 43, 25]  \n",
       "4  [26732, 26733, 26734, 9367, 7792, 336, 26735, ...  "
      ]
     },
     "execution_count": 7,
     "metadata": {},
     "output_type": "execute_result"
    }
   ],
   "source": [
    "df_catalogue.head()"
   ]
  },
  {
   "cell_type": "code",
   "execution_count": 8,
   "metadata": {
    "collapsed": false
   },
   "outputs": [
    {
     "name": "stdout",
     "output_type": "stream",
     "text": [
      "<class 'pandas.core.frame.DataFrame'>\n",
      "Int64Index: 10200 entries, 0 to 10199\n",
      "Data columns (total 9 columns):\n",
      "type            10200 non-null object\n",
      "availability    10200 non-null object\n",
      "duration        10200 non-null int64\n",
      "feature_1       10200 non-null float64\n",
      "feature_2       10200 non-null float64\n",
      "feature_3       10200 non-null int64\n",
      "feature_4       10200 non-null float64\n",
      "feature_5       10200 non-null float64\n",
      "attributes      10200 non-null object\n",
      "dtypes: float64(4), int64(2), object(3)\n",
      "memory usage: 796.9+ KB\n"
     ]
    }
   ],
   "source": [
    "df_catalogue.describe()\n",
    "df_catalogue.info()"
   ]
  },
  {
   "cell_type": "markdown",
   "metadata": {},
   "source": [
    " - `attributes` — мешок атрибутов\n",
    " - `availability` — доступность (может содержать значения `purchase`, `rent` и `subscription`)\n",
    " - `duration` — длительность в минутах, округлённая до десятков (продолжительность серии для сериалов и многосерийных фильмов)\n",
    " - `feature_1..5` — пять анонимизированных вещественных и порядковых признаков\n",
    " - `type` — принимает значения `movie`, `multipart_movie` или `series`"
   ]
  },
  {
   "cell_type": "markdown",
   "metadata": {},
   "source": [
    "---"
   ]
  },
  {
   "cell_type": "markdown",
   "metadata": {},
   "source": [
    "`test_users.json` содержит список пользователей, для которых необходимо построить предсказание"
   ]
  },
  {
   "cell_type": "code",
   "execution_count": 9,
   "metadata": {
    "collapsed": true
   },
   "outputs": [],
   "source": [
    "with open(os.path.join(DATA_PATH, 'test_users.json'), 'r') as f:\n",
    "    test_users = set(json.load(f)['users'])"
   ]
  },
  {
   "cell_type": "markdown",
   "metadata": {},
   "source": [
    "---"
   ]
  },
  {
   "cell_type": "markdown",
   "metadata": {},
   "source": [
    "`transactions.csv` — список всех транзакций за определённый период времени"
   ]
  },
  {
   "cell_type": "code",
   "execution_count": 10,
   "metadata": {
    "collapsed": false
   },
   "outputs": [
    {
     "name": "stdout",
     "output_type": "stream",
     "text": [
      "Wall time: 7.28 s\n"
     ]
    }
   ],
   "source": [
    "%%time\n",
    "transactions = pd.read_csv(\n",
    "    os.path.join(DATA_PATH, 'transactions.csv'),\n",
    "    dtype={\n",
    "        'element_uid': np.uint16,\n",
    "        'user_uid': np.uint32,\n",
    "        'consumption_mode': 'category',\n",
    "        'ts': np.float64,\n",
    "        'watched_time': np.uint64,\n",
    "        'device_type': np.uint8,\n",
    "        'device_manufacturer': np.uint8\n",
    "    }\n",
    ")"
   ]
  },
  {
   "cell_type": "code",
   "execution_count": 11,
   "metadata": {
    "collapsed": false
   },
   "outputs": [
    {
     "data": {
      "text/html": [
       "<div>\n",
       "<style scoped>\n",
       "    .dataframe tbody tr th:only-of-type {\n",
       "        vertical-align: middle;\n",
       "    }\n",
       "\n",
       "    .dataframe tbody tr th {\n",
       "        vertical-align: top;\n",
       "    }\n",
       "\n",
       "    .dataframe thead th {\n",
       "        text-align: right;\n",
       "    }\n",
       "</style>\n",
       "<table border=\"1\" class=\"dataframe\">\n",
       "  <thead>\n",
       "    <tr style=\"text-align: right;\">\n",
       "      <th></th>\n",
       "      <th>element_uid</th>\n",
       "      <th>user_uid</th>\n",
       "      <th>consumption_mode</th>\n",
       "      <th>ts</th>\n",
       "      <th>watched_time</th>\n",
       "      <th>device_type</th>\n",
       "      <th>device_manufacturer</th>\n",
       "    </tr>\n",
       "  </thead>\n",
       "  <tbody>\n",
       "    <tr>\n",
       "      <th>0</th>\n",
       "      <td>3336</td>\n",
       "      <td>5177</td>\n",
       "      <td>S</td>\n",
       "      <td>4.430518e+07</td>\n",
       "      <td>4282</td>\n",
       "      <td>0</td>\n",
       "      <td>50</td>\n",
       "    </tr>\n",
       "    <tr>\n",
       "      <th>1</th>\n",
       "      <td>481</td>\n",
       "      <td>593316</td>\n",
       "      <td>S</td>\n",
       "      <td>4.430518e+07</td>\n",
       "      <td>2989</td>\n",
       "      <td>0</td>\n",
       "      <td>11</td>\n",
       "    </tr>\n",
       "    <tr>\n",
       "      <th>2</th>\n",
       "      <td>4128</td>\n",
       "      <td>262355</td>\n",
       "      <td>S</td>\n",
       "      <td>4.430518e+07</td>\n",
       "      <td>833</td>\n",
       "      <td>0</td>\n",
       "      <td>50</td>\n",
       "    </tr>\n",
       "  </tbody>\n",
       "</table>\n",
       "</div>"
      ],
      "text/plain": [
       "   element_uid  user_uid consumption_mode            ts  watched_time  \\\n",
       "0         3336      5177                S  4.430518e+07          4282   \n",
       "1          481    593316                S  4.430518e+07          2989   \n",
       "2         4128    262355                S  4.430518e+07           833   \n",
       "\n",
       "   device_type  device_manufacturer  \n",
       "0            0                   50  \n",
       "1            0                   11  \n",
       "2            0                   50  "
      ]
     },
     "execution_count": 11,
     "metadata": {},
     "output_type": "execute_result"
    }
   ],
   "source": [
    "transactions.head(3)"
   ]
  },
  {
   "cell_type": "markdown",
   "metadata": {},
   "source": [
    "#### Подтянем к транзакциям сведения о фильме"
   ]
  },
  {
   "cell_type": "code",
   "execution_count": 12,
   "metadata": {
    "collapsed": false
   },
   "outputs": [],
   "source": [
    "transactions = pd.merge(transactions, df_catalogue, how='left', left_on='element_uid', right_index=True)"
   ]
  },
  {
   "cell_type": "markdown",
   "metadata": {},
   "source": [
    " - `element_uid` — идентификатор элемента\n",
    " - `user_uid` — идентификатор пользователя\n",
    " - `consumption_mode` — тип потребления (`P` — покупка, `R` — аренда, `S` — просмотр по подписке)\n",
    " - `ts` — время совершения транзакции или начала просмотра в случае просмотра по подписке\n",
    " - `watched_time` — число просмотренных по транзакции секунд\n",
    " - `device_type` — анонимизированный тип устройства, с которого была совершена транзакция или начат просмотр\n",
    " - `device_manufacturer` — анонимизированный производитель устройства, с которого была совершена транзакция или начат просмотр"
   ]
  },
  {
   "cell_type": "code",
   "execution_count": 13,
   "metadata": {
    "collapsed": false
   },
   "outputs": [
    {
     "data": {
      "text/html": [
       "<div>\n",
       "<style scoped>\n",
       "    .dataframe tbody tr th:only-of-type {\n",
       "        vertical-align: middle;\n",
       "    }\n",
       "\n",
       "    .dataframe tbody tr th {\n",
       "        vertical-align: top;\n",
       "    }\n",
       "\n",
       "    .dataframe thead th {\n",
       "        text-align: right;\n",
       "    }\n",
       "</style>\n",
       "<table border=\"1\" class=\"dataframe\">\n",
       "  <thead>\n",
       "    <tr style=\"text-align: right;\">\n",
       "      <th></th>\n",
       "      <th>element_uid</th>\n",
       "      <th>user_uid</th>\n",
       "      <th>ts</th>\n",
       "      <th>watched_time</th>\n",
       "      <th>device_type</th>\n",
       "      <th>device_manufacturer</th>\n",
       "      <th>duration</th>\n",
       "      <th>feature_1</th>\n",
       "      <th>feature_2</th>\n",
       "      <th>feature_3</th>\n",
       "      <th>feature_4</th>\n",
       "      <th>feature_5</th>\n",
       "    </tr>\n",
       "  </thead>\n",
       "  <tbody>\n",
       "    <tr>\n",
       "      <th>count</th>\n",
       "      <td>9.643012e+06</td>\n",
       "      <td>9.643012e+06</td>\n",
       "      <td>9.643012e+06</td>\n",
       "      <td>9.643012e+06</td>\n",
       "      <td>9.643012e+06</td>\n",
       "      <td>9.643012e+06</td>\n",
       "      <td>9.643012e+06</td>\n",
       "      <td>9.643012e+06</td>\n",
       "      <td>9.643012e+06</td>\n",
       "      <td>9.643012e+06</td>\n",
       "      <td>9.643012e+06</td>\n",
       "      <td>9.643012e+06</td>\n",
       "    </tr>\n",
       "    <tr>\n",
       "      <th>mean</th>\n",
       "      <td>4.903627e+03</td>\n",
       "      <td>2.972156e+05</td>\n",
       "      <td>4.308295e+07</td>\n",
       "      <td>6.338216e+03</td>\n",
       "      <td>7.113436e-01</td>\n",
       "      <td>5.378050e+01</td>\n",
       "      <td>9.295729e+01</td>\n",
       "      <td>3.009230e+07</td>\n",
       "      <td>7.278252e-01</td>\n",
       "      <td>1.964941e+01</td>\n",
       "      <td>1.130437e+00</td>\n",
       "      <td>5.248951e-01</td>\n",
       "    </tr>\n",
       "    <tr>\n",
       "      <th>std</th>\n",
       "      <td>2.962026e+03</td>\n",
       "      <td>1.710970e+05</td>\n",
       "      <td>7.459096e+05</td>\n",
       "      <td>1.823438e+04</td>\n",
       "      <td>1.523222e+00</td>\n",
       "      <td>3.064894e+01</td>\n",
       "      <td>3.181568e+01</td>\n",
       "      <td>1.342369e+07</td>\n",
       "      <td>5.150818e-02</td>\n",
       "      <td>1.081772e+01</td>\n",
       "      <td>2.107137e-02</td>\n",
       "      <td>2.958060e-01</td>\n",
       "    </tr>\n",
       "    <tr>\n",
       "      <th>min</th>\n",
       "      <td>0.000000e+00</td>\n",
       "      <td>0.000000e+00</td>\n",
       "      <td>4.173063e+07</td>\n",
       "      <td>0.000000e+00</td>\n",
       "      <td>0.000000e+00</td>\n",
       "      <td>0.000000e+00</td>\n",
       "      <td>0.000000e+00</td>\n",
       "      <td>1.006248e+02</td>\n",
       "      <td>2.658995e-01</td>\n",
       "      <td>0.000000e+00</td>\n",
       "      <td>7.343941e-01</td>\n",
       "      <td>-1.000000e+00</td>\n",
       "    </tr>\n",
       "    <tr>\n",
       "      <th>25%</th>\n",
       "      <td>2.332000e+03</td>\n",
       "      <td>1.489950e+05</td>\n",
       "      <td>4.243755e+07</td>\n",
       "      <td>9.780000e+02</td>\n",
       "      <td>0.000000e+00</td>\n",
       "      <td>5.000000e+01</td>\n",
       "      <td>8.000000e+01</td>\n",
       "      <td>1.900747e+07</td>\n",
       "      <td>6.980000e-01</td>\n",
       "      <td>1.200000e+01</td>\n",
       "      <td>1.130076e+00</td>\n",
       "      <td>5.927161e-01</td>\n",
       "    </tr>\n",
       "    <tr>\n",
       "      <th>50%</th>\n",
       "      <td>4.661000e+03</td>\n",
       "      <td>2.973630e+05</td>\n",
       "      <td>4.314893e+07</td>\n",
       "      <td>4.959000e+03</td>\n",
       "      <td>0.000000e+00</td>\n",
       "      <td>5.000000e+01</td>\n",
       "      <td>1.000000e+02</td>\n",
       "      <td>3.633499e+07</td>\n",
       "      <td>7.360206e-01</td>\n",
       "      <td>1.700000e+01</td>\n",
       "      <td>1.138604e+00</td>\n",
       "      <td>6.547073e-01</td>\n",
       "    </tr>\n",
       "    <tr>\n",
       "      <th>75%</th>\n",
       "      <td>7.433000e+03</td>\n",
       "      <td>4.453270e+05</td>\n",
       "      <td>4.372865e+07</td>\n",
       "      <td>6.446000e+03</td>\n",
       "      <td>0.000000e+00</td>\n",
       "      <td>9.000000e+01</td>\n",
       "      <td>1.100000e+02</td>\n",
       "      <td>4.129727e+07</td>\n",
       "      <td>7.662538e-01</td>\n",
       "      <td>2.600000e+01</td>\n",
       "      <td>1.140273e+00</td>\n",
       "      <td>6.547073e-01</td>\n",
       "    </tr>\n",
       "    <tr>\n",
       "      <th>max</th>\n",
       "      <td>1.019900e+04</td>\n",
       "      <td>5.934890e+05</td>\n",
       "      <td>4.430518e+07</td>\n",
       "      <td>4.326296e+06</td>\n",
       "      <td>6.000000e+00</td>\n",
       "      <td>9.900000e+01</td>\n",
       "      <td>2.900000e+02</td>\n",
       "      <td>4.380675e+07</td>\n",
       "      <td>8.270144e-01</td>\n",
       "      <td>5.000000e+01</td>\n",
       "      <td>1.141929e+00</td>\n",
       "      <td>6.804097e-01</td>\n",
       "    </tr>\n",
       "  </tbody>\n",
       "</table>\n",
       "</div>"
      ],
      "text/plain": [
       "        element_uid      user_uid            ts  watched_time   device_type  \\\n",
       "count  9.643012e+06  9.643012e+06  9.643012e+06  9.643012e+06  9.643012e+06   \n",
       "mean   4.903627e+03  2.972156e+05  4.308295e+07  6.338216e+03  7.113436e-01   \n",
       "std    2.962026e+03  1.710970e+05  7.459096e+05  1.823438e+04  1.523222e+00   \n",
       "min    0.000000e+00  0.000000e+00  4.173063e+07  0.000000e+00  0.000000e+00   \n",
       "25%    2.332000e+03  1.489950e+05  4.243755e+07  9.780000e+02  0.000000e+00   \n",
       "50%    4.661000e+03  2.973630e+05  4.314893e+07  4.959000e+03  0.000000e+00   \n",
       "75%    7.433000e+03  4.453270e+05  4.372865e+07  6.446000e+03  0.000000e+00   \n",
       "max    1.019900e+04  5.934890e+05  4.430518e+07  4.326296e+06  6.000000e+00   \n",
       "\n",
       "       device_manufacturer      duration     feature_1     feature_2  \\\n",
       "count         9.643012e+06  9.643012e+06  9.643012e+06  9.643012e+06   \n",
       "mean          5.378050e+01  9.295729e+01  3.009230e+07  7.278252e-01   \n",
       "std           3.064894e+01  3.181568e+01  1.342369e+07  5.150818e-02   \n",
       "min           0.000000e+00  0.000000e+00  1.006248e+02  2.658995e-01   \n",
       "25%           5.000000e+01  8.000000e+01  1.900747e+07  6.980000e-01   \n",
       "50%           5.000000e+01  1.000000e+02  3.633499e+07  7.360206e-01   \n",
       "75%           9.000000e+01  1.100000e+02  4.129727e+07  7.662538e-01   \n",
       "max           9.900000e+01  2.900000e+02  4.380675e+07  8.270144e-01   \n",
       "\n",
       "          feature_3     feature_4     feature_5  \n",
       "count  9.643012e+06  9.643012e+06  9.643012e+06  \n",
       "mean   1.964941e+01  1.130437e+00  5.248951e-01  \n",
       "std    1.081772e+01  2.107137e-02  2.958060e-01  \n",
       "min    0.000000e+00  7.343941e-01 -1.000000e+00  \n",
       "25%    1.200000e+01  1.130076e+00  5.927161e-01  \n",
       "50%    1.700000e+01  1.138604e+00  6.547073e-01  \n",
       "75%    2.600000e+01  1.140273e+00  6.547073e-01  \n",
       "max    5.000000e+01  1.141929e+00  6.804097e-01  "
      ]
     },
     "execution_count": 13,
     "metadata": {},
     "output_type": "execute_result"
    }
   ],
   "source": [
    "transactions.describe()"
   ]
  },
  {
   "cell_type": "markdown",
   "metadata": {},
   "source": [
    "#### Проставляем флаг того, что клиент потребил фильм"
   ]
  },
  {
   "cell_type": "code",
   "execution_count": 14,
   "metadata": {
    "collapsed": false
   },
   "outputs": [],
   "source": [
    "element_agg = transactions.groupby('element_uid').agg({'watched_time': ['mean', 'median']})\n",
    "element_agg.columns = ['elem_watched_time_mean', 'elem_watched_time_median']\n",
    "transactions = pd.merge(transactions, element_agg, how='left', left_on='element_uid', right_index=True)"
   ]
  },
  {
   "cell_type": "code",
   "execution_count": 16,
   "metadata": {
    "collapsed": false,
    "scrolled": false
   },
   "outputs": [
    {
     "data": {
      "text/html": [
       "<div>\n",
       "<style scoped>\n",
       "    .dataframe tbody tr th:only-of-type {\n",
       "        vertical-align: middle;\n",
       "    }\n",
       "\n",
       "    .dataframe tbody tr th {\n",
       "        vertical-align: top;\n",
       "    }\n",
       "\n",
       "    .dataframe thead th {\n",
       "        text-align: right;\n",
       "    }\n",
       "</style>\n",
       "<table border=\"1\" class=\"dataframe\">\n",
       "  <thead>\n",
       "    <tr style=\"text-align: right;\">\n",
       "      <th></th>\n",
       "      <th>element_uid</th>\n",
       "      <th>user_uid</th>\n",
       "      <th>ts</th>\n",
       "      <th>watched_time</th>\n",
       "      <th>device_type</th>\n",
       "      <th>device_manufacturer</th>\n",
       "      <th>duration</th>\n",
       "      <th>feature_1</th>\n",
       "      <th>feature_2</th>\n",
       "      <th>feature_3</th>\n",
       "      <th>feature_4</th>\n",
       "      <th>feature_5</th>\n",
       "      <th>elem_watched_time_mean</th>\n",
       "      <th>elem_watched_time_median</th>\n",
       "    </tr>\n",
       "  </thead>\n",
       "  <tbody>\n",
       "    <tr>\n",
       "      <th>count</th>\n",
       "      <td>6.558159e+06</td>\n",
       "      <td>6.558159e+06</td>\n",
       "      <td>6.558159e+06</td>\n",
       "      <td>6.558159e+06</td>\n",
       "      <td>6.558159e+06</td>\n",
       "      <td>6.558159e+06</td>\n",
       "      <td>6.558159e+06</td>\n",
       "      <td>6.558159e+06</td>\n",
       "      <td>6.558159e+06</td>\n",
       "      <td>6.558159e+06</td>\n",
       "      <td>6.558159e+06</td>\n",
       "      <td>6.558159e+06</td>\n",
       "      <td>6.558159e+06</td>\n",
       "      <td>6.558159e+06</td>\n",
       "    </tr>\n",
       "    <tr>\n",
       "      <th>mean</th>\n",
       "      <td>4.915903e+03</td>\n",
       "      <td>2.970374e+05</td>\n",
       "      <td>4.307423e+07</td>\n",
       "      <td>8.973787e+03</td>\n",
       "      <td>6.273113e-01</td>\n",
       "      <td>5.331692e+01</td>\n",
       "      <td>9.356283e+01</td>\n",
       "      <td>3.047970e+07</td>\n",
       "      <td>7.286954e-01</td>\n",
       "      <td>2.000053e+01</td>\n",
       "      <td>1.130690e+00</td>\n",
       "      <td>5.294272e-01</td>\n",
       "      <td>6.586072e+03</td>\n",
       "      <td>5.410154e+03</td>\n",
       "    </tr>\n",
       "    <tr>\n",
       "      <th>std</th>\n",
       "      <td>2.957592e+03</td>\n",
       "      <td>1.710971e+05</td>\n",
       "      <td>7.434018e+05</td>\n",
       "      <td>2.160543e+04</td>\n",
       "      <td>1.429497e+00</td>\n",
       "      <td>3.025051e+01</td>\n",
       "      <td>3.227748e+01</td>\n",
       "      <td>1.348188e+07</td>\n",
       "      <td>5.042258e-02</td>\n",
       "      <td>1.096756e+01</td>\n",
       "      <td>2.152439e-02</td>\n",
       "      <td>2.859834e-01</td>\n",
       "      <td>7.985530e+03</td>\n",
       "      <td>2.936313e+03</td>\n",
       "    </tr>\n",
       "    <tr>\n",
       "      <th>min</th>\n",
       "      <td>0.000000e+00</td>\n",
       "      <td>0.000000e+00</td>\n",
       "      <td>4.173063e+07</td>\n",
       "      <td>0.000000e+00</td>\n",
       "      <td>0.000000e+00</td>\n",
       "      <td>0.000000e+00</td>\n",
       "      <td>0.000000e+00</td>\n",
       "      <td>1.006248e+02</td>\n",
       "      <td>2.658995e-01</td>\n",
       "      <td>0.000000e+00</td>\n",
       "      <td>7.343941e-01</td>\n",
       "      <td>-1.000000e+00</td>\n",
       "      <td>0.000000e+00</td>\n",
       "      <td>0.000000e+00</td>\n",
       "    </tr>\n",
       "    <tr>\n",
       "      <th>25%</th>\n",
       "      <td>2.360500e+03</td>\n",
       "      <td>1.487140e+05</td>\n",
       "      <td>4.242619e+07</td>\n",
       "      <td>4.892000e+03</td>\n",
       "      <td>0.000000e+00</td>\n",
       "      <td>5.000000e+01</td>\n",
       "      <td>8.000000e+01</td>\n",
       "      <td>1.942723e+07</td>\n",
       "      <td>6.985012e-01</td>\n",
       "      <td>1.200000e+01</td>\n",
       "      <td>1.130076e+00</td>\n",
       "      <td>5.927161e-01</td>\n",
       "      <td>3.969532e+03</td>\n",
       "      <td>4.490000e+03</td>\n",
       "    </tr>\n",
       "    <tr>\n",
       "      <th>50%</th>\n",
       "      <td>4.681000e+03</td>\n",
       "      <td>2.971780e+05</td>\n",
       "      <td>4.313255e+07</td>\n",
       "      <td>5.853000e+03</td>\n",
       "      <td>0.000000e+00</td>\n",
       "      <td>5.000000e+01</td>\n",
       "      <td>1.000000e+02</td>\n",
       "      <td>3.715533e+07</td>\n",
       "      <td>7.360206e-01</td>\n",
       "      <td>1.800000e+01</td>\n",
       "      <td>1.138604e+00</td>\n",
       "      <td>6.547073e-01</td>\n",
       "      <td>4.980626e+03</td>\n",
       "      <td>5.426000e+03</td>\n",
       "    </tr>\n",
       "    <tr>\n",
       "      <th>75%</th>\n",
       "      <td>7.433000e+03</td>\n",
       "      <td>4.450980e+05</td>\n",
       "      <td>4.371430e+07</td>\n",
       "      <td>7.294000e+03</td>\n",
       "      <td>0.000000e+00</td>\n",
       "      <td>8.500000e+01</td>\n",
       "      <td>1.100000e+02</td>\n",
       "      <td>4.146583e+07</td>\n",
       "      <td>7.662538e-01</td>\n",
       "      <td>2.700000e+01</td>\n",
       "      <td>1.140273e+00</td>\n",
       "      <td>6.547073e-01</td>\n",
       "      <td>6.307795e+03</td>\n",
       "      <td>6.295000e+03</td>\n",
       "    </tr>\n",
       "    <tr>\n",
       "      <th>max</th>\n",
       "      <td>1.019900e+04</td>\n",
       "      <td>5.934890e+05</td>\n",
       "      <td>4.430518e+07</td>\n",
       "      <td>4.326296e+06</td>\n",
       "      <td>6.000000e+00</td>\n",
       "      <td>9.900000e+01</td>\n",
       "      <td>2.900000e+02</td>\n",
       "      <td>4.380675e+07</td>\n",
       "      <td>8.270144e-01</td>\n",
       "      <td>5.000000e+01</td>\n",
       "      <td>1.141929e+00</td>\n",
       "      <td>6.804097e-01</td>\n",
       "      <td>1.712741e+05</td>\n",
       "      <td>9.651250e+04</td>\n",
       "    </tr>\n",
       "  </tbody>\n",
       "</table>\n",
       "</div>"
      ],
      "text/plain": [
       "        element_uid      user_uid            ts  watched_time   device_type  \\\n",
       "count  6.558159e+06  6.558159e+06  6.558159e+06  6.558159e+06  6.558159e+06   \n",
       "mean   4.915903e+03  2.970374e+05  4.307423e+07  8.973787e+03  6.273113e-01   \n",
       "std    2.957592e+03  1.710971e+05  7.434018e+05  2.160543e+04  1.429497e+00   \n",
       "min    0.000000e+00  0.000000e+00  4.173063e+07  0.000000e+00  0.000000e+00   \n",
       "25%    2.360500e+03  1.487140e+05  4.242619e+07  4.892000e+03  0.000000e+00   \n",
       "50%    4.681000e+03  2.971780e+05  4.313255e+07  5.853000e+03  0.000000e+00   \n",
       "75%    7.433000e+03  4.450980e+05  4.371430e+07  7.294000e+03  0.000000e+00   \n",
       "max    1.019900e+04  5.934890e+05  4.430518e+07  4.326296e+06  6.000000e+00   \n",
       "\n",
       "       device_manufacturer      duration     feature_1     feature_2  \\\n",
       "count         6.558159e+06  6.558159e+06  6.558159e+06  6.558159e+06   \n",
       "mean          5.331692e+01  9.356283e+01  3.047970e+07  7.286954e-01   \n",
       "std           3.025051e+01  3.227748e+01  1.348188e+07  5.042258e-02   \n",
       "min           0.000000e+00  0.000000e+00  1.006248e+02  2.658995e-01   \n",
       "25%           5.000000e+01  8.000000e+01  1.942723e+07  6.985012e-01   \n",
       "50%           5.000000e+01  1.000000e+02  3.715533e+07  7.360206e-01   \n",
       "75%           8.500000e+01  1.100000e+02  4.146583e+07  7.662538e-01   \n",
       "max           9.900000e+01  2.900000e+02  4.380675e+07  8.270144e-01   \n",
       "\n",
       "          feature_3     feature_4     feature_5  elem_watched_time_mean  \\\n",
       "count  6.558159e+06  6.558159e+06  6.558159e+06            6.558159e+06   \n",
       "mean   2.000053e+01  1.130690e+00  5.294272e-01            6.586072e+03   \n",
       "std    1.096756e+01  2.152439e-02  2.859834e-01            7.985530e+03   \n",
       "min    0.000000e+00  7.343941e-01 -1.000000e+00            0.000000e+00   \n",
       "25%    1.200000e+01  1.130076e+00  5.927161e-01            3.969532e+03   \n",
       "50%    1.800000e+01  1.138604e+00  6.547073e-01            4.980626e+03   \n",
       "75%    2.700000e+01  1.140273e+00  6.547073e-01            6.307795e+03   \n",
       "max    5.000000e+01  1.141929e+00  6.804097e-01            1.712741e+05   \n",
       "\n",
       "       elem_watched_time_median  \n",
       "count              6.558159e+06  \n",
       "mean               5.410154e+03  \n",
       "std                2.936313e+03  \n",
       "min                0.000000e+00  \n",
       "25%                4.490000e+03  \n",
       "50%                5.426000e+03  \n",
       "75%                6.295000e+03  \n",
       "max                9.651250e+04  "
      ]
     },
     "execution_count": 16,
     "metadata": {},
     "output_type": "execute_result"
    }
   ],
   "source": [
    "targets = transactions.query(\"\"\" consumption_mode == 'P' or consumption_mode == 'R' \\\n",
    "    or consumption_mode == 'S' and type in ['series', 'multipart_movie'] and watched_time > elem_watched_time_median /3 \\\n",
    "    or consumption_mode == 'S' and type == 'movie' and watched_time / 60 > duration / 2 \"\"\")\n",
    "targets.describe()"
   ]
  },
  {
   "cell_type": "code",
   "execution_count": 83,
   "metadata": {
    "collapsed": false
   },
   "outputs": [
    {
     "data": {
      "text/plain": [
       "(6558159, 18)"
      ]
     },
     "execution_count": 83,
     "metadata": {},
     "output_type": "execute_result"
    }
   ],
   "source": [
    "targets.shape"
   ]
  },
  {
   "cell_type": "markdown",
   "metadata": {},
   "source": [
    "---"
   ]
  },
  {
   "cell_type": "markdown",
   "metadata": {},
   "source": [
    "`ratings.csv` содержит информацию о поставленных пользователями оценках"
   ]
  },
  {
   "cell_type": "code",
   "execution_count": 151,
   "metadata": {
    "collapsed": false
   },
   "outputs": [
    {
     "name": "stdout",
     "output_type": "stream",
     "text": [
      "Wall time: 267 ms\n"
     ]
    }
   ],
   "source": [
    "%%time\n",
    "ratings = pd.read_csv(\n",
    "    os.path.join(DATA_PATH, 'ratings.csv'),\n",
    "    dtype={\n",
    "        'element_uid': np.uint16,\n",
    "        'user_uid': np.uint32,\n",
    "        'ts': np.float64,\n",
    "        'rating': np.uint8\n",
    "    }\n",
    ")"
   ]
  },
  {
   "cell_type": "code",
   "execution_count": 140,
   "metadata": {
    "collapsed": false
   },
   "outputs": [
    {
     "data": {
      "text/html": [
       "<div>\n",
       "<style scoped>\n",
       "    .dataframe tbody tr th:only-of-type {\n",
       "        vertical-align: middle;\n",
       "    }\n",
       "\n",
       "    .dataframe tbody tr th {\n",
       "        vertical-align: top;\n",
       "    }\n",
       "\n",
       "    .dataframe thead th {\n",
       "        text-align: right;\n",
       "    }\n",
       "</style>\n",
       "<table border=\"1\" class=\"dataframe\">\n",
       "  <thead>\n",
       "    <tr style=\"text-align: right;\">\n",
       "      <th></th>\n",
       "      <th>user_uid</th>\n",
       "      <th>element_uid</th>\n",
       "      <th>rating</th>\n",
       "      <th>ts</th>\n",
       "    </tr>\n",
       "  </thead>\n",
       "  <tbody>\n",
       "    <tr>\n",
       "      <th>0</th>\n",
       "      <td>571252</td>\n",
       "      <td>1364</td>\n",
       "      <td>10</td>\n",
       "      <td>4.430517e+07</td>\n",
       "    </tr>\n",
       "    <tr>\n",
       "      <th>1</th>\n",
       "      <td>63140</td>\n",
       "      <td>3037</td>\n",
       "      <td>10</td>\n",
       "      <td>4.430514e+07</td>\n",
       "    </tr>\n",
       "    <tr>\n",
       "      <th>2</th>\n",
       "      <td>443817</td>\n",
       "      <td>4363</td>\n",
       "      <td>8</td>\n",
       "      <td>4.430514e+07</td>\n",
       "    </tr>\n",
       "  </tbody>\n",
       "</table>\n",
       "</div>"
      ],
      "text/plain": [
       "   user_uid  element_uid  rating            ts\n",
       "0    571252         1364      10  4.430517e+07\n",
       "1     63140         3037      10  4.430514e+07\n",
       "2    443817         4363       8  4.430514e+07"
      ]
     },
     "execution_count": 140,
     "metadata": {},
     "output_type": "execute_result"
    }
   ],
   "source": [
    "ratings.head(3)"
   ]
  },
  {
   "cell_type": "markdown",
   "metadata": {},
   "source": [
    " - `rating` — поставленный пользователем рейтинг (от `0` до `10`)"
   ]
  },
  {
   "cell_type": "markdown",
   "metadata": {},
   "source": [
    "---"
   ]
  },
  {
   "cell_type": "code",
   "execution_count": 19,
   "metadata": {
    "collapsed": false
   },
   "outputs": [
    {
     "data": {
      "text/html": [
       "<div>\n",
       "<style scoped>\n",
       "    .dataframe tbody tr th:only-of-type {\n",
       "        vertical-align: middle;\n",
       "    }\n",
       "\n",
       "    .dataframe tbody tr th {\n",
       "        vertical-align: top;\n",
       "    }\n",
       "\n",
       "    .dataframe thead th {\n",
       "        text-align: right;\n",
       "    }\n",
       "</style>\n",
       "<table border=\"1\" class=\"dataframe\">\n",
       "  <thead>\n",
       "    <tr style=\"text-align: right;\">\n",
       "      <th></th>\n",
       "      <th>user_uid</th>\n",
       "      <th>element_uid</th>\n",
       "      <th>rating</th>\n",
       "      <th>ts</th>\n",
       "    </tr>\n",
       "  </thead>\n",
       "  <tbody>\n",
       "    <tr>\n",
       "      <th>count</th>\n",
       "      <td>438790.000000</td>\n",
       "      <td>438790.000000</td>\n",
       "      <td>438790.000000</td>\n",
       "      <td>4.387900e+05</td>\n",
       "    </tr>\n",
       "    <tr>\n",
       "      <th>mean</th>\n",
       "      <td>297633.918918</td>\n",
       "      <td>4877.467467</td>\n",
       "      <td>8.189079</td>\n",
       "      <td>4.298166e+07</td>\n",
       "    </tr>\n",
       "    <tr>\n",
       "      <th>std</th>\n",
       "      <td>170411.749934</td>\n",
       "      <td>2952.994260</td>\n",
       "      <td>2.074550</td>\n",
       "      <td>7.275682e+05</td>\n",
       "    </tr>\n",
       "    <tr>\n",
       "      <th>min</th>\n",
       "      <td>1.000000</td>\n",
       "      <td>3.000000</td>\n",
       "      <td>0.000000</td>\n",
       "      <td>4.173065e+07</td>\n",
       "    </tr>\n",
       "    <tr>\n",
       "      <th>25%</th>\n",
       "      <td>147598.000000</td>\n",
       "      <td>2297.000000</td>\n",
       "      <td>7.000000</td>\n",
       "      <td>4.232747e+07</td>\n",
       "    </tr>\n",
       "    <tr>\n",
       "      <th>50%</th>\n",
       "      <td>300425.000000</td>\n",
       "      <td>4709.000000</td>\n",
       "      <td>9.000000</td>\n",
       "      <td>4.301707e+07</td>\n",
       "    </tr>\n",
       "    <tr>\n",
       "      <th>75%</th>\n",
       "      <td>445190.000000</td>\n",
       "      <td>7381.000000</td>\n",
       "      <td>10.000000</td>\n",
       "      <td>4.358960e+07</td>\n",
       "    </tr>\n",
       "    <tr>\n",
       "      <th>max</th>\n",
       "      <td>593486.000000</td>\n",
       "      <td>10199.000000</td>\n",
       "      <td>10.000000</td>\n",
       "      <td>4.430517e+07</td>\n",
       "    </tr>\n",
       "  </tbody>\n",
       "</table>\n",
       "</div>"
      ],
      "text/plain": [
       "            user_uid    element_uid         rating            ts\n",
       "count  438790.000000  438790.000000  438790.000000  4.387900e+05\n",
       "mean   297633.918918    4877.467467       8.189079  4.298166e+07\n",
       "std    170411.749934    2952.994260       2.074550  7.275682e+05\n",
       "min         1.000000       3.000000       0.000000  4.173065e+07\n",
       "25%    147598.000000    2297.000000       7.000000  4.232747e+07\n",
       "50%    300425.000000    4709.000000       9.000000  4.301707e+07\n",
       "75%    445190.000000    7381.000000      10.000000  4.358960e+07\n",
       "max    593486.000000   10199.000000      10.000000  4.430517e+07"
      ]
     },
     "execution_count": 19,
     "metadata": {},
     "output_type": "execute_result"
    }
   ],
   "source": [
    "ratings.describe()"
   ]
  },
  {
   "cell_type": "markdown",
   "metadata": {},
   "source": [
    "`bookmarks.csv` содержит информацию об элементах, добавленных пользователями в список «Избранное»"
   ]
  },
  {
   "cell_type": "code",
   "execution_count": 20,
   "metadata": {
    "collapsed": false
   },
   "outputs": [
    {
     "name": "stdout",
     "output_type": "stream",
     "text": [
      "Wall time: 494 ms\n"
     ]
    }
   ],
   "source": [
    "%%time\n",
    "bookmarks = pd.read_csv(\n",
    "    os.path.join(DATA_PATH, 'bookmarks.csv'),\n",
    "    dtype={\n",
    "        'element_uid': np.uint16,\n",
    "        'user_uid': np.uint32,\n",
    "        'ts': np.float64\n",
    "    }\n",
    ")"
   ]
  },
  {
   "cell_type": "code",
   "execution_count": 21,
   "metadata": {
    "collapsed": false
   },
   "outputs": [
    {
     "data": {
      "text/html": [
       "<div>\n",
       "<style scoped>\n",
       "    .dataframe tbody tr th:only-of-type {\n",
       "        vertical-align: middle;\n",
       "    }\n",
       "\n",
       "    .dataframe tbody tr th {\n",
       "        vertical-align: top;\n",
       "    }\n",
       "\n",
       "    .dataframe thead th {\n",
       "        text-align: right;\n",
       "    }\n",
       "</style>\n",
       "<table border=\"1\" class=\"dataframe\">\n",
       "  <thead>\n",
       "    <tr style=\"text-align: right;\">\n",
       "      <th></th>\n",
       "      <th>user_uid</th>\n",
       "      <th>element_uid</th>\n",
       "      <th>ts</th>\n",
       "    </tr>\n",
       "  </thead>\n",
       "  <tbody>\n",
       "    <tr>\n",
       "      <th>0</th>\n",
       "      <td>301135</td>\n",
       "      <td>7185</td>\n",
       "      <td>4.430516e+07</td>\n",
       "    </tr>\n",
       "    <tr>\n",
       "      <th>1</th>\n",
       "      <td>301135</td>\n",
       "      <td>4083</td>\n",
       "      <td>4.430516e+07</td>\n",
       "    </tr>\n",
       "    <tr>\n",
       "      <th>2</th>\n",
       "      <td>301135</td>\n",
       "      <td>10158</td>\n",
       "      <td>4.430516e+07</td>\n",
       "    </tr>\n",
       "  </tbody>\n",
       "</table>\n",
       "</div>"
      ],
      "text/plain": [
       "   user_uid  element_uid            ts\n",
       "0    301135         7185  4.430516e+07\n",
       "1    301135         4083  4.430516e+07\n",
       "2    301135        10158  4.430516e+07"
      ]
     },
     "execution_count": 21,
     "metadata": {},
     "output_type": "execute_result"
    }
   ],
   "source": [
    "bookmarks.head(3)"
   ]
  },
  {
   "cell_type": "markdown",
   "metadata": {},
   "source": [
    "### Решение"
   ]
  },
  {
   "cell_type": "markdown",
   "metadata": {},
   "source": [
    "Для начала построим список элементов, которые тестовые пользователи уже купили или посмотрели по подписке: они не смогут купить их второй раз, а просмотр по подписке второй раз маловероятен, поэтому мы захотим отфильтровать такие элементы из финального ответа.\n",
    "\n",
    "Точно так же можно поступить и с рейтингами и добавлениями в избранное, если это будет казаться правильным."
   ]
  },
  {
   "cell_type": "markdown",
   "metadata": {},
   "source": [
    "---"
   ]
  },
  {
   "cell_type": "markdown",
   "metadata": {},
   "source": [
    "#### Построим разреженную матрицу по транзакциям и обучимся только на \"старых\" данных"
   ]
  },
  {
   "cell_type": "code",
   "execution_count": 102,
   "metadata": {
    "collapsed": false
   },
   "outputs": [
    {
     "name": "stdout",
     "output_type": "stream",
     "text": [
      "Wall time: 3.17 s\n"
     ]
    }
   ],
   "source": [
    "%%time\n",
    "\n",
    "validation_percent = 1\n",
    "\n",
    "ts_cut_off = targets['ts'].quantile(validation_percent)\n",
    "\n",
    "train_transactions = pd.DataFrame(targets.query('ts < @ts_cut_off'))\n",
    "train_transactions['user_uid'] = train_transactions['user_uid'].astype('category')\n",
    "train_transactions['element_uid'] = train_transactions['element_uid'].astype('category')\n",
    "train_transactions['has_trans_flg'] = 1\n",
    "\n",
    "validation_transactions = transactions.query('ts >= @ts_cut_off')\n",
    "validation_users = set(validation_transactions['user_uid'])\n",
    "validation_result = {k: g[\"element_uid\"].tolist() for k,g in validation_transactions.groupby(\"user_uid\")}\n",
    "\n",
    "transactions_matrix = sp.coo_matrix(\n",
    "    (train_transactions['has_trans_flg'].astype(np.float32) + 1,\n",
    "        (\n",
    "            train_transactions['element_uid'].cat.codes.copy(),\n",
    "            train_transactions['user_uid'].cat.codes.copy()\n",
    "        )\n",
    "    )\n",
    ")\n",
    "\n",
    "transactions_matrix = transactions_matrix.tocsr()"
   ]
  },
  {
   "cell_type": "code",
   "execution_count": 108,
   "metadata": {
    "collapsed": false
   },
   "outputs": [
    {
     "data": {
      "text/plain": [
       "(6558159, 19)"
      ]
     },
     "execution_count": 108,
     "metadata": {},
     "output_type": "execute_result"
    }
   ],
   "source": [
    "train_transactions.shape"
   ]
  },
  {
   "cell_type": "code",
   "execution_count": 85,
   "metadata": {
    "collapsed": false
   },
   "outputs": [
    {
     "name": "stdout",
     "output_type": "stream",
     "text": [
      "Sparsity: 0.001635\n"
     ]
    }
   ],
   "source": [
    "sparsity = transactions_matrix.nnz / (transactions_matrix.shape[0] * transactions_matrix.shape[1])\n",
    "print('Sparsity: %.6f' % sparsity)"
   ]
  },
  {
   "cell_type": "markdown",
   "metadata": {},
   "source": [
    "Обучить модель крайне просто."
   ]
  },
  {
   "cell_type": "code",
   "execution_count": 86,
   "metadata": {
    "collapsed": false
   },
   "outputs": [
    {
     "name": "stderr",
     "output_type": "stream",
     "text": [
      "100%|████████████████████████████████████████████████████████████████████████████| 8221/8221 [00:00<00:00, 8368.52it/s]\n"
     ]
    }
   ],
   "source": [
    "from implicit.nearest_neighbours import TFIDFRecommender\n",
    "\n",
    "model = TFIDFRecommender()\n",
    "model.fit(transactions_matrix)"
   ]
  },
  {
   "cell_type": "markdown",
   "metadata": {},
   "source": [
    "---"
   ]
  },
  {
   "cell_type": "code",
   "execution_count": 87,
   "metadata": {
    "collapsed": true
   },
   "outputs": [],
   "source": [
    "transactions_matrix_T = transactions_matrix.T.tocsr()"
   ]
  },
  {
   "cell_type": "markdown",
   "metadata": {},
   "source": [
    "Отображения из оригинальной категории во внутреннюю пригодится нам в дальнейшем."
   ]
  },
  {
   "cell_type": "code",
   "execution_count": 88,
   "metadata": {
    "collapsed": false
   },
   "outputs": [],
   "source": [
    "user_uid_to_cat = dict(zip(\n",
    "    train_transactions['user_uid'].cat.categories,\n",
    "    range(len(train_transactions['user_uid'].cat.categories))\n",
    "))"
   ]
  },
  {
   "cell_type": "code",
   "execution_count": 89,
   "metadata": {
    "collapsed": true
   },
   "outputs": [],
   "source": [
    "element_uid_to_cat = dict(zip(\n",
    "    train_transactions['element_uid'].cat.categories,\n",
    "    range(len(train_transactions['element_uid'].cat.categories))\n",
    "))"
   ]
  },
  {
   "cell_type": "markdown",
   "metadata": {},
   "source": [
    "#### Отфильтруем ненужные элементы"
   ]
  },
  {
   "cell_type": "code",
   "execution_count": 109,
   "metadata": {
    "collapsed": false
   },
   "outputs": [
    {
     "name": "stderr",
     "output_type": "stream",
     "text": [
      "100%|████████████████████████████████████████████████████████████████████| 9643012/9643012 [00:18<00:00, 531456.08it/s]\n"
     ]
    }
   ],
   "source": [
    "from collections import defaultdict\n",
    "\n",
    "filtered_elements = defaultdict(set)\n",
    "\n",
    "for user_uid, element_uid in tqdm.tqdm(transactions.loc[:, ['user_uid', 'element_uid']].values):\n",
    "    if user_uid not in test_users:\n",
    "        continue\n",
    "    filtered_elements[user_uid].add(element_uid)"
   ]
  },
  {
   "cell_type": "code",
   "execution_count": 112,
   "metadata": {
    "collapsed": false
   },
   "outputs": [
    {
     "data": {
      "text/plain": [
       "49992"
      ]
     },
     "execution_count": 112,
     "metadata": {},
     "output_type": "execute_result"
    }
   ],
   "source": [
    "len(filtered_elements_cat)"
   ]
  },
  {
   "cell_type": "code",
   "execution_count": 113,
   "metadata": {
    "collapsed": false
   },
   "outputs": [],
   "source": [
    "filtered_elements_cat = {k: [element_uid_to_cat.get(x, None) for x in v] for k, v in filtered_elements.items()}"
   ]
  },
  {
   "cell_type": "markdown",
   "metadata": {},
   "source": [
    "---"
   ]
  },
  {
   "cell_type": "markdown",
   "metadata": {},
   "source": [
    "В метод `model.recommend` мы передаём идентификатор пользователя, который получаем обратным преобразованием из категории, транспонированную матрицу взаимодействий, число необходимых рекомендаций и список элементов, которые мы договорились фильтровать из ответа.\n",
    "\n",
    "Возвращает метод список пар (`element_cat`, `score`), отсортированный по вторым элементам. Из него необходимо достать все первые элементы пар и из категории преобразовать их к `element_uid`."
   ]
  },
  {
   "cell_type": "markdown",
   "metadata": {},
   "source": [
    "**Если необходимо построить предсказание для тестовой выборки, нужно заменить validation_users на test_users.**\n",
    "\n",
    "NB. Не забыть поменять сплит train'a и валидационной выборки"
   ]
  },
  {
   "cell_type": "code",
   "execution_count": 114,
   "metadata": {
    "collapsed": false
   },
   "outputs": [
    {
     "name": "stderr",
     "output_type": "stream",
     "text": [
      "100%|██████████████████████████████████████████████████████████████████████████| 50000/50000 [00:17<00:00, 2929.51it/s]\n"
     ]
    }
   ],
   "source": [
    "result = {}\n",
    "\n",
    "for user_uid in tqdm.tqdm(test_users):\n",
    "    # transform user_uid to model's internal user category\n",
    "    try:\n",
    "        user_cat = user_uid_to_cat[user_uid]\n",
    "    except LookupError:\n",
    "        continue\n",
    "    \n",
    "    # perform inference\n",
    "    recs = model.recommend(\n",
    "        user_cat,\n",
    "        transactions_matrix_T,\n",
    "        N=20,\n",
    "        filter_already_liked_items=True,\n",
    "        filter_items=filtered_elements_cat.get(user_uid, set())\n",
    "    )\n",
    "    \n",
    "    # drop scores and transform model's internal elelemnt category to element_uid for every prediction\n",
    "    # also convert np.uint64 to int so it could be json serialized later\n",
    "    result[user_uid] = [int(train_transactions['element_uid'].cat.categories[i]) for i, _ in recs]"
   ]
  },
  {
   "cell_type": "code",
   "execution_count": 93,
   "metadata": {
    "collapsed": false
   },
   "outputs": [
    {
     "data": {
      "text/plain": [
       "49669"
      ]
     },
     "execution_count": 93,
     "metadata": {},
     "output_type": "execute_result"
    }
   ],
   "source": [
    "len(result)"
   ]
  },
  {
   "cell_type": "markdown",
   "metadata": {},
   "source": [
    "#### Построили предсказание для валидационной выборки. Посмотрим на качество на этой выборке."
   ]
  },
  {
   "cell_type": "markdown",
   "metadata": {},
   "source": [
    "Расчет метрики сохранен в файле metric.pyx. Это код на Cython, поэтому нужно подключение отдельных библиотек и компиляция этого файла. "
   ]
  },
  {
   "cell_type": "code",
   "execution_count": 80,
   "metadata": {
    "collapsed": false
   },
   "outputs": [
    {
     "name": "stdout",
     "output_type": "stream",
     "text": [
      "Final metric on validation = 0.01685\n"
     ]
    }
   ],
   "source": [
    "import time\n",
    "import pyximport; pyximport.install()\n",
    "import metric\n",
    "\n",
    "print(\"Final metric on validation = %.5f\" % metric.metric(validation_result, result))"
   ]
  },
  {
   "cell_type": "markdown",
   "metadata": {
    "collapsed": false
   },
   "source": [
    "#### Дамп ответа в json"
   ]
  },
  {
   "cell_type": "code",
   "execution_count": 116,
   "metadata": {
    "collapsed": false
   },
   "outputs": [],
   "source": [
    "from datetime import datetime\n",
    "\n",
    "with open('submits/transactions-' + datetime.now().strftime('%Y-%m-%d %H-%M-%S') + '.json', 'w') as f:\n",
    "    json.dump(result, f)"
   ]
  },
  {
   "cell_type": "code",
   "execution_count": null,
   "metadata": {
    "collapsed": true
   },
   "outputs": [],
   "source": []
  }
 ],
 "metadata": {
  "hide_input": false,
  "kernelspec": {
   "display_name": "Python 3",
   "language": "python",
   "name": "python3"
  },
  "language_info": {
   "codemirror_mode": {
    "name": "ipython",
    "version": 3
   },
   "file_extension": ".py",
   "mimetype": "text/x-python",
   "name": "python",
   "nbconvert_exporter": "python",
   "pygments_lexer": "ipython3",
   "version": "3.6.4"
  }
 },
 "nbformat": 4,
 "nbformat_minor": 2
}

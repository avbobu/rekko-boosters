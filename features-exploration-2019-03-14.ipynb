{
 "cells": [
  {
   "cell_type": "markdown",
   "metadata": {},
   "source": [
    "# Rekko challenge 2019\n",
    "\n",
    "```\n",
    "                           /$$$$$$$  /$$$$$$$$ /$$   /$$ /$$   /$$  /$$$$$$ \n",
    "                          | $$__  $$| $$_____/| $$  /$$/| $$  /$$/ /$$__  $$\n",
    "                          | $$  \\ $$| $$      | $$ /$$/ | $$ /$$/ | $$  \\ $$\n",
    "                          | $$$$$$$/| $$$$$   | $$$$$/  | $$$$$/  | $$  | $$\n",
    "                          | $$__  $$| $$__/   | $$  $$  | $$  $$  | $$  | $$\n",
    "                          | $$  \\ $$| $$      | $$\\  $$ | $$\\  $$ | $$  | $$\n",
    "                          | $$  | $$| $$$$$$$$| $$ \\  $$| $$ \\  $$|  $$$$$$/\n",
    "                          |__/  |__/|________/|__/  \\__/|__/  \\__/ \\______/ \n",
    "                                                                            \n",
    "```"
   ]
  },
  {
   "cell_type": "markdown",
   "metadata": {},
   "source": [
    "Добро пожаловать на соревнование по машинному обучению от онлайн-кинотеатра [Okko](http://okko.tv) Rekko Challenge 2019.\n",
    "\n",
    "В этом ноутбуке мы покажем вам пример простого но полного решения, от загрузки данных до формирования ответа. Для работы нам понадобятся библиотеки `pandas`, `numpy`, `scipy`, `implicit`, `pprint`, `tqdm`. Установить их в вашем рабочем окружении можно следующей командой.\n",
    "```\n",
    "pip install pandas numpy scipy implicit pprint tqdm\n",
    "```"
   ]
  },
  {
   "cell_type": "code",
   "execution_count": 1,
   "metadata": {
    "collapsed": true
   },
   "outputs": [],
   "source": [
    "import os\n",
    "import json\n",
    "import pandas as pd\n",
    "import numpy as np\n",
    "import tqdm\n",
    "import scipy.sparse as sp\n",
    "import seaborn as sns\n",
    "import matplotlib as plt \n",
    "%matplotlib inline\n",
    "\n",
    "from pprint import pprint"
   ]
  },
  {
   "cell_type": "markdown",
   "metadata": {},
   "source": [
    "### Загрузка данных"
   ]
  },
  {
   "cell_type": "markdown",
   "metadata": {},
   "source": [
    "Замените `DATA_PATH` на путь к данным, которые вы скачали со страницы соревнования."
   ]
  },
  {
   "cell_type": "code",
   "execution_count": 2,
   "metadata": {
    "collapsed": true
   },
   "outputs": [],
   "source": [
    "DATA_PATH = './data'"
   ]
  },
  {
   "cell_type": "markdown",
   "metadata": {},
   "source": [
    "---"
   ]
  },
  {
   "cell_type": "markdown",
   "metadata": {},
   "source": [
    "`catalogue.json` содержит анонимизированную метаинформацию о доступных в сервисе фильмах и сериалах."
   ]
  },
  {
   "cell_type": "code",
   "execution_count": 3,
   "metadata": {
    "collapsed": false
   },
   "outputs": [],
   "source": [
    "with open(os.path.join(DATA_PATH, 'catalogue.json'), 'r') as f:\n",
    "    catalogue = json.load(f)\n",
    "\n",
    "type(catalogue)\n",
    "catalogue = {int(k): v for k, v in catalogue.items()}"
   ]
  },
  {
   "cell_type": "code",
   "execution_count": 4,
   "metadata": {
    "collapsed": false
   },
   "outputs": [
    {
     "data": {
      "text/plain": [
       "10200"
      ]
     },
     "execution_count": 4,
     "metadata": {},
     "output_type": "execute_result"
    }
   ],
   "source": [
    "len(catalogue)"
   ]
  },
  {
   "cell_type": "code",
   "execution_count": 5,
   "metadata": {
    "collapsed": false
   },
   "outputs": [
    {
     "name": "stdout",
     "output_type": "stream",
     "text": [
      "{'attributes': [31115, 6713, 10906, 31116, 31117, 270, 24431, 42, 31118, 31119],\n",
      " 'availability': [],\n",
      " 'duration': 80,\n",
      " 'feature_1': 29121982.214158818,\n",
      " 'feature_2': 0.5752595062,\n",
      " 'feature_3': 0,\n",
      " 'feature_4': 1.1283323575,\n",
      " 'feature_5': 0.6547073468,\n",
      " 'type': 'movie'}\n"
     ]
    }
   ],
   "source": [
    "pprint(catalogue[0])"
   ]
  },
  {
   "cell_type": "markdown",
   "metadata": {},
   "source": [
    "#### Превращаем каталог в DataFrame"
   ]
  },
  {
   "cell_type": "code",
   "execution_count": 6,
   "metadata": {
    "collapsed": false,
    "scrolled": true
   },
   "outputs": [],
   "source": [
    "df_catalogue = pd.DataFrame.from_dict(catalogue, orient='index')"
   ]
  },
  {
   "cell_type": "code",
   "execution_count": 7,
   "metadata": {
    "collapsed": false
   },
   "outputs": [
    {
     "data": {
      "text/html": [
       "<div>\n",
       "<style scoped>\n",
       "    .dataframe tbody tr th:only-of-type {\n",
       "        vertical-align: middle;\n",
       "    }\n",
       "\n",
       "    .dataframe tbody tr th {\n",
       "        vertical-align: top;\n",
       "    }\n",
       "\n",
       "    .dataframe thead th {\n",
       "        text-align: right;\n",
       "    }\n",
       "</style>\n",
       "<table border=\"1\" class=\"dataframe\">\n",
       "  <thead>\n",
       "    <tr style=\"text-align: right;\">\n",
       "      <th></th>\n",
       "      <th>type</th>\n",
       "      <th>availability</th>\n",
       "      <th>duration</th>\n",
       "      <th>feature_1</th>\n",
       "      <th>feature_2</th>\n",
       "      <th>feature_3</th>\n",
       "      <th>feature_4</th>\n",
       "      <th>feature_5</th>\n",
       "      <th>attributes</th>\n",
       "    </tr>\n",
       "  </thead>\n",
       "  <tbody>\n",
       "    <tr>\n",
       "      <th>0</th>\n",
       "      <td>movie</td>\n",
       "      <td>[]</td>\n",
       "      <td>80</td>\n",
       "      <td>2.912198e+07</td>\n",
       "      <td>0.575260</td>\n",
       "      <td>0</td>\n",
       "      <td>1.128332</td>\n",
       "      <td>0.654707</td>\n",
       "      <td>[31115, 6713, 10906, 31116, 31117, 270, 24431,...</td>\n",
       "    </tr>\n",
       "    <tr>\n",
       "      <th>1</th>\n",
       "      <td>movie</td>\n",
       "      <td>[purchase, rent]</td>\n",
       "      <td>120</td>\n",
       "      <td>6.610431e+06</td>\n",
       "      <td>0.773224</td>\n",
       "      <td>3</td>\n",
       "      <td>1.112014</td>\n",
       "      <td>0.654707</td>\n",
       "      <td>[2786, 385, 2799, 3730, 886, 7, 11700, 42, 20,...</td>\n",
       "    </tr>\n",
       "    <tr>\n",
       "      <th>2</th>\n",
       "      <td>movie</td>\n",
       "      <td>[]</td>\n",
       "      <td>80</td>\n",
       "      <td>1.315874e+07</td>\n",
       "      <td>0.699502</td>\n",
       "      <td>0</td>\n",
       "      <td>1.110127</td>\n",
       "      <td>0.680410</td>\n",
       "      <td>[31442, 31443, 31444, 31445, 113, 31446, 42, 3...</td>\n",
       "    </tr>\n",
       "    <tr>\n",
       "      <th>3</th>\n",
       "      <td>series</td>\n",
       "      <td>[]</td>\n",
       "      <td>20</td>\n",
       "      <td>4.157712e+07</td>\n",
       "      <td>0.702981</td>\n",
       "      <td>0</td>\n",
       "      <td>1.141929</td>\n",
       "      <td>0.654707</td>\n",
       "      <td>[34361, 34362, 23033, 14887, 270, 20089, 43, 25]</td>\n",
       "    </tr>\n",
       "    <tr>\n",
       "      <th>4</th>\n",
       "      <td>movie</td>\n",
       "      <td>[purchase, rent, subscription]</td>\n",
       "      <td>70</td>\n",
       "      <td>3.999579e+07</td>\n",
       "      <td>0.626596</td>\n",
       "      <td>8</td>\n",
       "      <td>1.130076</td>\n",
       "      <td>0.592716</td>\n",
       "      <td>[26732, 26733, 26734, 9367, 7792, 336, 26735, ...</td>\n",
       "    </tr>\n",
       "  </tbody>\n",
       "</table>\n",
       "</div>"
      ],
      "text/plain": [
       "     type                    availability  duration     feature_1  feature_2  \\\n",
       "0   movie                              []        80  2.912198e+07   0.575260   \n",
       "1   movie                [purchase, rent]       120  6.610431e+06   0.773224   \n",
       "2   movie                              []        80  1.315874e+07   0.699502   \n",
       "3  series                              []        20  4.157712e+07   0.702981   \n",
       "4   movie  [purchase, rent, subscription]        70  3.999579e+07   0.626596   \n",
       "\n",
       "   feature_3  feature_4  feature_5  \\\n",
       "0          0   1.128332   0.654707   \n",
       "1          3   1.112014   0.654707   \n",
       "2          0   1.110127   0.680410   \n",
       "3          0   1.141929   0.654707   \n",
       "4          8   1.130076   0.592716   \n",
       "\n",
       "                                          attributes  \n",
       "0  [31115, 6713, 10906, 31116, 31117, 270, 24431,...  \n",
       "1  [2786, 385, 2799, 3730, 886, 7, 11700, 42, 20,...  \n",
       "2  [31442, 31443, 31444, 31445, 113, 31446, 42, 3...  \n",
       "3   [34361, 34362, 23033, 14887, 270, 20089, 43, 25]  \n",
       "4  [26732, 26733, 26734, 9367, 7792, 336, 26735, ...  "
      ]
     },
     "execution_count": 7,
     "metadata": {},
     "output_type": "execute_result"
    }
   ],
   "source": [
    "df_catalogue.head()"
   ]
  },
  {
   "cell_type": "code",
   "execution_count": 8,
   "metadata": {
    "collapsed": false
   },
   "outputs": [
    {
     "name": "stdout",
     "output_type": "stream",
     "text": [
      "<class 'pandas.core.frame.DataFrame'>\n",
      "Int64Index: 10200 entries, 0 to 10199\n",
      "Data columns (total 9 columns):\n",
      "type            10200 non-null object\n",
      "availability    10200 non-null object\n",
      "duration        10200 non-null int64\n",
      "feature_1       10200 non-null float64\n",
      "feature_2       10200 non-null float64\n",
      "feature_3       10200 non-null int64\n",
      "feature_4       10200 non-null float64\n",
      "feature_5       10200 non-null float64\n",
      "attributes      10200 non-null object\n",
      "dtypes: float64(4), int64(2), object(3)\n",
      "memory usage: 796.9+ KB\n"
     ]
    }
   ],
   "source": [
    "df_catalogue.describe()\n",
    "df_catalogue.info()"
   ]
  },
  {
   "cell_type": "markdown",
   "metadata": {},
   "source": [
    " - `attributes` — мешок атрибутов\n",
    " - `availability` — доступность (может содержать значения `purchase`, `rent` и `subscription`)\n",
    " - `duration` — длительность в минутах, округлённая до десятков (продолжительность серии для сериалов и многосерийных фильмов)\n",
    " - `feature_1..5` — пять анонимизированных вещественных и порядковых признаков\n",
    " - `type` — принимает значения `movie`, `multipart_movie` или `series`"
   ]
  },
  {
   "cell_type": "markdown",
   "metadata": {},
   "source": [
    "---"
   ]
  },
  {
   "cell_type": "markdown",
   "metadata": {},
   "source": [
    "`test_users.json` содержит список пользователей, для которых необходимо построить предсказание"
   ]
  },
  {
   "cell_type": "code",
   "execution_count": 9,
   "metadata": {
    "collapsed": true
   },
   "outputs": [],
   "source": [
    "with open(os.path.join(DATA_PATH, 'test_users.json'), 'r') as f:\n",
    "    test_users = set(json.load(f)['users'])"
   ]
  },
  {
   "cell_type": "markdown",
   "metadata": {},
   "source": [
    "---"
   ]
  },
  {
   "cell_type": "markdown",
   "metadata": {},
   "source": [
    "`transactions.csv` — список всех транзакций за определённый период времени"
   ]
  },
  {
   "cell_type": "code",
   "execution_count": 10,
   "metadata": {
    "collapsed": false
   },
   "outputs": [
    {
     "name": "stdout",
     "output_type": "stream",
     "text": [
      "Wall time: 7.28 s\n"
     ]
    }
   ],
   "source": [
    "%%time\n",
    "transactions = pd.read_csv(\n",
    "    os.path.join(DATA_PATH, 'transactions.csv'),\n",
    "    dtype={\n",
    "        'element_uid': np.uint16,\n",
    "        'user_uid': np.uint32,\n",
    "        'consumption_mode': 'category',\n",
    "        'ts': np.float64,\n",
    "        'watched_time': np.uint64,\n",
    "        'device_type': np.uint8,\n",
    "        'device_manufacturer': np.uint8\n",
    "    }\n",
    ")"
   ]
  },
  {
   "cell_type": "code",
   "execution_count": 11,
   "metadata": {
    "collapsed": false
   },
   "outputs": [
    {
     "data": {
      "text/html": [
       "<div>\n",
       "<style scoped>\n",
       "    .dataframe tbody tr th:only-of-type {\n",
       "        vertical-align: middle;\n",
       "    }\n",
       "\n",
       "    .dataframe tbody tr th {\n",
       "        vertical-align: top;\n",
       "    }\n",
       "\n",
       "    .dataframe thead th {\n",
       "        text-align: right;\n",
       "    }\n",
       "</style>\n",
       "<table border=\"1\" class=\"dataframe\">\n",
       "  <thead>\n",
       "    <tr style=\"text-align: right;\">\n",
       "      <th></th>\n",
       "      <th>element_uid</th>\n",
       "      <th>user_uid</th>\n",
       "      <th>consumption_mode</th>\n",
       "      <th>ts</th>\n",
       "      <th>watched_time</th>\n",
       "      <th>device_type</th>\n",
       "      <th>device_manufacturer</th>\n",
       "    </tr>\n",
       "  </thead>\n",
       "  <tbody>\n",
       "    <tr>\n",
       "      <th>0</th>\n",
       "      <td>3336</td>\n",
       "      <td>5177</td>\n",
       "      <td>S</td>\n",
       "      <td>4.430518e+07</td>\n",
       "      <td>4282</td>\n",
       "      <td>0</td>\n",
       "      <td>50</td>\n",
       "    </tr>\n",
       "    <tr>\n",
       "      <th>1</th>\n",
       "      <td>481</td>\n",
       "      <td>593316</td>\n",
       "      <td>S</td>\n",
       "      <td>4.430518e+07</td>\n",
       "      <td>2989</td>\n",
       "      <td>0</td>\n",
       "      <td>11</td>\n",
       "    </tr>\n",
       "    <tr>\n",
       "      <th>2</th>\n",
       "      <td>4128</td>\n",
       "      <td>262355</td>\n",
       "      <td>S</td>\n",
       "      <td>4.430518e+07</td>\n",
       "      <td>833</td>\n",
       "      <td>0</td>\n",
       "      <td>50</td>\n",
       "    </tr>\n",
       "  </tbody>\n",
       "</table>\n",
       "</div>"
      ],
      "text/plain": [
       "   element_uid  user_uid consumption_mode            ts  watched_time  \\\n",
       "0         3336      5177                S  4.430518e+07          4282   \n",
       "1          481    593316                S  4.430518e+07          2989   \n",
       "2         4128    262355                S  4.430518e+07           833   \n",
       "\n",
       "   device_type  device_manufacturer  \n",
       "0            0                   50  \n",
       "1            0                   11  \n",
       "2            0                   50  "
      ]
     },
     "execution_count": 11,
     "metadata": {},
     "output_type": "execute_result"
    }
   ],
   "source": [
    "transactions.head(3)"
   ]
  },
  {
   "cell_type": "markdown",
   "metadata": {},
   "source": [
    "#### Подтянем к транзакциям сведения о фильме"
   ]
  },
  {
   "cell_type": "code",
   "execution_count": 12,
   "metadata": {
    "collapsed": false
   },
   "outputs": [],
   "source": [
    "transactions = pd.merge(transactions, df_catalogue, how='left', left_on='element_uid', right_index=True)"
   ]
  },
  {
   "cell_type": "markdown",
   "metadata": {},
   "source": [
    " - `element_uid` — идентификатор элемента\n",
    " - `user_uid` — идентификатор пользователя\n",
    " - `consumption_mode` — тип потребления (`P` — покупка, `R` — аренда, `S` — просмотр по подписке)\n",
    " - `ts` — время совершения транзакции или начала просмотра в случае просмотра по подписке\n",
    " - `watched_time` — число просмотренных по транзакции секунд\n",
    " - `device_type` — анонимизированный тип устройства, с которого была совершена транзакция или начат просмотр\n",
    " - `device_manufacturer` — анонимизированный производитель устройства, с которого была совершена транзакция или начат просмотр"
   ]
  },
  {
   "cell_type": "code",
   "execution_count": 13,
   "metadata": {
    "collapsed": false
   },
   "outputs": [
    {
     "data": {
      "text/html": [
       "<div>\n",
       "<style scoped>\n",
       "    .dataframe tbody tr th:only-of-type {\n",
       "        vertical-align: middle;\n",
       "    }\n",
       "\n",
       "    .dataframe tbody tr th {\n",
       "        vertical-align: top;\n",
       "    }\n",
       "\n",
       "    .dataframe thead th {\n",
       "        text-align: right;\n",
       "    }\n",
       "</style>\n",
       "<table border=\"1\" class=\"dataframe\">\n",
       "  <thead>\n",
       "    <tr style=\"text-align: right;\">\n",
       "      <th></th>\n",
       "      <th>element_uid</th>\n",
       "      <th>user_uid</th>\n",
       "      <th>ts</th>\n",
       "      <th>watched_time</th>\n",
       "      <th>device_type</th>\n",
       "      <th>device_manufacturer</th>\n",
       "      <th>duration</th>\n",
       "      <th>feature_1</th>\n",
       "      <th>feature_2</th>\n",
       "      <th>feature_3</th>\n",
       "      <th>feature_4</th>\n",
       "      <th>feature_5</th>\n",
       "    </tr>\n",
       "  </thead>\n",
       "  <tbody>\n",
       "    <tr>\n",
       "      <th>count</th>\n",
       "      <td>9.643012e+06</td>\n",
       "      <td>9.643012e+06</td>\n",
       "      <td>9.643012e+06</td>\n",
       "      <td>9.643012e+06</td>\n",
       "      <td>9.643012e+06</td>\n",
       "      <td>9.643012e+06</td>\n",
       "      <td>9.643012e+06</td>\n",
       "      <td>9.643012e+06</td>\n",
       "      <td>9.643012e+06</td>\n",
       "      <td>9.643012e+06</td>\n",
       "      <td>9.643012e+06</td>\n",
       "      <td>9.643012e+06</td>\n",
       "    </tr>\n",
       "    <tr>\n",
       "      <th>mean</th>\n",
       "      <td>4.903627e+03</td>\n",
       "      <td>2.972156e+05</td>\n",
       "      <td>4.308295e+07</td>\n",
       "      <td>6.338216e+03</td>\n",
       "      <td>7.113436e-01</td>\n",
       "      <td>5.378050e+01</td>\n",
       "      <td>9.295729e+01</td>\n",
       "      <td>3.009230e+07</td>\n",
       "      <td>7.278252e-01</td>\n",
       "      <td>1.964941e+01</td>\n",
       "      <td>1.130437e+00</td>\n",
       "      <td>5.248951e-01</td>\n",
       "    </tr>\n",
       "    <tr>\n",
       "      <th>std</th>\n",
       "      <td>2.962026e+03</td>\n",
       "      <td>1.710970e+05</td>\n",
       "      <td>7.459096e+05</td>\n",
       "      <td>1.823438e+04</td>\n",
       "      <td>1.523222e+00</td>\n",
       "      <td>3.064894e+01</td>\n",
       "      <td>3.181568e+01</td>\n",
       "      <td>1.342369e+07</td>\n",
       "      <td>5.150818e-02</td>\n",
       "      <td>1.081772e+01</td>\n",
       "      <td>2.107137e-02</td>\n",
       "      <td>2.958060e-01</td>\n",
       "    </tr>\n",
       "    <tr>\n",
       "      <th>min</th>\n",
       "      <td>0.000000e+00</td>\n",
       "      <td>0.000000e+00</td>\n",
       "      <td>4.173063e+07</td>\n",
       "      <td>0.000000e+00</td>\n",
       "      <td>0.000000e+00</td>\n",
       "      <td>0.000000e+00</td>\n",
       "      <td>0.000000e+00</td>\n",
       "      <td>1.006248e+02</td>\n",
       "      <td>2.658995e-01</td>\n",
       "      <td>0.000000e+00</td>\n",
       "      <td>7.343941e-01</td>\n",
       "      <td>-1.000000e+00</td>\n",
       "    </tr>\n",
       "    <tr>\n",
       "      <th>25%</th>\n",
       "      <td>2.332000e+03</td>\n",
       "      <td>1.489950e+05</td>\n",
       "      <td>4.243755e+07</td>\n",
       "      <td>9.780000e+02</td>\n",
       "      <td>0.000000e+00</td>\n",
       "      <td>5.000000e+01</td>\n",
       "      <td>8.000000e+01</td>\n",
       "      <td>1.900747e+07</td>\n",
       "      <td>6.980000e-01</td>\n",
       "      <td>1.200000e+01</td>\n",
       "      <td>1.130076e+00</td>\n",
       "      <td>5.927161e-01</td>\n",
       "    </tr>\n",
       "    <tr>\n",
       "      <th>50%</th>\n",
       "      <td>4.661000e+03</td>\n",
       "      <td>2.973630e+05</td>\n",
       "      <td>4.314893e+07</td>\n",
       "      <td>4.959000e+03</td>\n",
       "      <td>0.000000e+00</td>\n",
       "      <td>5.000000e+01</td>\n",
       "      <td>1.000000e+02</td>\n",
       "      <td>3.633499e+07</td>\n",
       "      <td>7.360206e-01</td>\n",
       "      <td>1.700000e+01</td>\n",
       "      <td>1.138604e+00</td>\n",
       "      <td>6.547073e-01</td>\n",
       "    </tr>\n",
       "    <tr>\n",
       "      <th>75%</th>\n",
       "      <td>7.433000e+03</td>\n",
       "      <td>4.453270e+05</td>\n",
       "      <td>4.372865e+07</td>\n",
       "      <td>6.446000e+03</td>\n",
       "      <td>0.000000e+00</td>\n",
       "      <td>9.000000e+01</td>\n",
       "      <td>1.100000e+02</td>\n",
       "      <td>4.129727e+07</td>\n",
       "      <td>7.662538e-01</td>\n",
       "      <td>2.600000e+01</td>\n",
       "      <td>1.140273e+00</td>\n",
       "      <td>6.547073e-01</td>\n",
       "    </tr>\n",
       "    <tr>\n",
       "      <th>max</th>\n",
       "      <td>1.019900e+04</td>\n",
       "      <td>5.934890e+05</td>\n",
       "      <td>4.430518e+07</td>\n",
       "      <td>4.326296e+06</td>\n",
       "      <td>6.000000e+00</td>\n",
       "      <td>9.900000e+01</td>\n",
       "      <td>2.900000e+02</td>\n",
       "      <td>4.380675e+07</td>\n",
       "      <td>8.270144e-01</td>\n",
       "      <td>5.000000e+01</td>\n",
       "      <td>1.141929e+00</td>\n",
       "      <td>6.804097e-01</td>\n",
       "    </tr>\n",
       "  </tbody>\n",
       "</table>\n",
       "</div>"
      ],
      "text/plain": [
       "        element_uid      user_uid            ts  watched_time   device_type  \\\n",
       "count  9.643012e+06  9.643012e+06  9.643012e+06  9.643012e+06  9.643012e+06   \n",
       "mean   4.903627e+03  2.972156e+05  4.308295e+07  6.338216e+03  7.113436e-01   \n",
       "std    2.962026e+03  1.710970e+05  7.459096e+05  1.823438e+04  1.523222e+00   \n",
       "min    0.000000e+00  0.000000e+00  4.173063e+07  0.000000e+00  0.000000e+00   \n",
       "25%    2.332000e+03  1.489950e+05  4.243755e+07  9.780000e+02  0.000000e+00   \n",
       "50%    4.661000e+03  2.973630e+05  4.314893e+07  4.959000e+03  0.000000e+00   \n",
       "75%    7.433000e+03  4.453270e+05  4.372865e+07  6.446000e+03  0.000000e+00   \n",
       "max    1.019900e+04  5.934890e+05  4.430518e+07  4.326296e+06  6.000000e+00   \n",
       "\n",
       "       device_manufacturer      duration     feature_1     feature_2  \\\n",
       "count         9.643012e+06  9.643012e+06  9.643012e+06  9.643012e+06   \n",
       "mean          5.378050e+01  9.295729e+01  3.009230e+07  7.278252e-01   \n",
       "std           3.064894e+01  3.181568e+01  1.342369e+07  5.150818e-02   \n",
       "min           0.000000e+00  0.000000e+00  1.006248e+02  2.658995e-01   \n",
       "25%           5.000000e+01  8.000000e+01  1.900747e+07  6.980000e-01   \n",
       "50%           5.000000e+01  1.000000e+02  3.633499e+07  7.360206e-01   \n",
       "75%           9.000000e+01  1.100000e+02  4.129727e+07  7.662538e-01   \n",
       "max           9.900000e+01  2.900000e+02  4.380675e+07  8.270144e-01   \n",
       "\n",
       "          feature_3     feature_4     feature_5  \n",
       "count  9.643012e+06  9.643012e+06  9.643012e+06  \n",
       "mean   1.964941e+01  1.130437e+00  5.248951e-01  \n",
       "std    1.081772e+01  2.107137e-02  2.958060e-01  \n",
       "min    0.000000e+00  7.343941e-01 -1.000000e+00  \n",
       "25%    1.200000e+01  1.130076e+00  5.927161e-01  \n",
       "50%    1.700000e+01  1.138604e+00  6.547073e-01  \n",
       "75%    2.600000e+01  1.140273e+00  6.547073e-01  \n",
       "max    5.000000e+01  1.141929e+00  6.804097e-01  "
      ]
     },
     "execution_count": 13,
     "metadata": {},
     "output_type": "execute_result"
    }
   ],
   "source": [
    "transactions.describe()"
   ]
  },
  {
   "cell_type": "markdown",
   "metadata": {},
   "source": [
    "#### Проставляем флаг того, что клиент потребил фильм"
   ]
  },
  {
   "cell_type": "code",
   "execution_count": 14,
   "metadata": {
    "collapsed": false
   },
   "outputs": [],
   "source": [
    "element_agg = transactions.groupby('element_uid').agg({'watched_time': ['mean', 'median']})\n",
    "element_agg.columns = ['elem_watched_time_mean', 'elem_watched_time_median']\n",
    "transactions = pd.merge(transactions, element_agg, how='left', left_on='element_uid', right_index=True)"
   ]
  },
  {
   "cell_type": "code",
   "execution_count": 136,
   "metadata": {
    "collapsed": false
   },
   "outputs": [
    {
     "data": {
      "text/plain": [
       "element_uid  type    duration  feature_1     feature_2  feature_3  feature_4  feature_5\n",
       "2714         movie   130       4.234673e+07  0.740500   45         1.141929    0.592716    68320\n",
       "747          movie   120       4.195494e+07  0.773630   44         1.140273    0.449667    61272\n",
       "2639         movie   140       4.079335e+07  0.764594   47         1.140273    0.654707    61119\n",
       "3783         movie   110       3.556521e+07  0.766254   41         1.138604    0.654707    55228\n",
       "2245         movie   110       4.097526e+07  0.784022   45         1.140273    0.449667    52942\n",
       "6127         movie   130       4.146583e+07  0.726889   29         1.141929    0.680410    52168\n",
       "10061        movie   100       4.156312e+07  0.664360   26         1.141929    0.654707    48993\n",
       "3916         movie   130       3.715533e+07  0.702486   17         1.140273    0.592716    48243\n",
       "8771         series  50        4.161910e+07  0.786378   2          1.138604    0.654707    47480\n",
       "3336         movie   90        4.166108e+07  0.739609   45         1.141929    0.654707    45646\n",
       "7079         movie   90        4.175902e+07  0.627208   18         1.141929    0.654707    43872\n",
       "3567         movie   100       4.069541e+07  0.807276   42         1.140273    0.592716    42278\n",
       "6195         movie   90        4.203320e+07  0.704953   37         1.141929    0.654707    42192\n",
       "4141         movie   90        3.907229e+07  0.744924   41         1.140273    0.449667    41704\n",
       "1016         movie   110       4.075138e+07  0.722234   24         1.140273    0.654707    41539\n",
       "7185         movie   110       2.919372e+07  0.744484   33         1.136924    0.592716    39595\n",
       "1004         movie   100       3.793926e+07  0.677350   17         1.140273    0.592716    38929\n",
       "9467         movie   130       2.821427e+07  0.752320   29         1.136924    0.592716    37207\n",
       "72           movie   100       3.564426e+07  0.761670   43         1.138604    0.449667    36080\n",
       "1521         movie   110       4.216483e+07  0.718466   38         1.141929    0.592716    35168\n",
       "5845         series  60        4.162279e+07  0.786378   17         1.138604    0.680410    34979\n",
       "905          movie   110       3.996781e+07  0.749293   22         1.140273    0.680410    32345\n",
       "2947         movie   120       4.002378e+07  0.722234   16         1.140273    0.654707    31154\n",
       "9472         movie   110       6.414542e+06  0.762507   26         1.117582    0.592716    30246\n",
       "427          movie   170       3.203415e+07  0.794502   12         1.138604    0.449667    29563\n",
       "6236         movie   100       4.269633e+07  0.707892   23         1.140273    0.680410    29425\n",
       "8152         movie   90        3.952240e+07  0.691419   17         1.140273    0.680410    29368\n",
       "9491         movie   100       4.153605e+07  0.719884   36         1.141929    0.654707    28155\n",
       "5616         movie   210       4.304614e+07  0.779663   28         1.141929    0.654707    28122\n",
       "8127         movie   110       2.412057e+07  0.772411   44         1.135231    0.592716    27966\n",
       "                                                                                           ...  \n",
       "3933         movie   100       3.975792e+07  0.677350   4          1.140273    0.592716        1\n",
       "4099         movie   100       6.204660e+06  0.750161   3          1.086201    0.449667        1\n",
       "1514         movie   110       6.162684e+06  0.725499   2          1.077641    0.680410        1\n",
       "337          movie   90        3.144649e+07  0.660481   6          1.136924   -1.000000        1\n",
       "9870         movie   120       1.425012e+07  0.547286   12         1.123020    0.680410        1\n",
       "643          movie   110       3.842084e+07  0.747115   6          1.094455    0.449667        1\n",
       "957          movie   130       3.040893e+07  0.759144   12         1.090365    0.654707        1\n",
       "7329         movie   90        7.435966e+06  0.741389   3          1.108226    0.654707        1\n",
       "3826         movie   80        6.610431e+06  0.752751   9          1.119409    0.654707        1\n",
       "4084         movie   90        1.321471e+07  0.726426   16         1.130076    0.654707        1\n",
       "4116         movie   90        3.906124e+07  0.697498   5          1.140273    0.680410        1\n",
       "1560         movie   90        2.383707e+07  0.622279   12         1.135231    0.680410        1\n",
       "6151         movie   170       3.538921e+07  0.754894   4          1.034636    0.592716        1\n",
       "1808         movie   100       2.930566e+07  0.706915   5          1.135231    0.592716        1\n",
       "226          movie   110       6.190668e+06  0.758721   6          1.034636    0.592716        1\n",
       "6725         movie   90        8.443398e+06  0.673073   3          1.128332    0.680410        1\n",
       "7983         movie   110       2.707820e+07  0.724104   12         1.126575    0.654707        1\n",
       "7986         movie   90        3.757613e+07  0.673610   6          1.136924   -1.000000        1\n",
       "8016         movie   110       1.715537e+07  0.701990   11         1.124804    0.680410        1\n",
       "5141         movie   90        1.601255e+06  0.710323   5          1.092419    0.000000        1\n",
       "5166         movie   90        6.582447e+06  0.701990   3          1.071007    0.654707        1\n",
       "1869         movie   80        2.156444e+07  0.496327   3          1.133525    0.654707        1\n",
       "7121         movie   120       1.502995e+07  0.754894   3          1.066476    0.654707        1\n",
       "9790         movie   90        3.585115e+07  0.698000   8          1.126575    0.680410        1\n",
       "1839         movie   100       2.023533e+07  0.722234   5          1.131807   -1.000000        1\n",
       "8855         movie   80        3.370149e+07  0.661593   4          1.138604   -1.000000        1\n",
       "4179         movie   100       6.582447e+06  0.728274   2          1.128332    0.654707        1\n",
       "4174         movie   50        6.050747e+06  0.705445   3          0.961047    0.000000        1\n",
       "4169         movie   100       1.601255e+06  0.741833   2          1.121222    0.000000        1\n",
       "5888         movie   120       6.582447e+06  0.732396   3          1.034636    0.654707        1\n",
       "Name: user_uid, Length: 8296, dtype: int64"
      ]
     },
     "execution_count": 136,
     "metadata": {},
     "output_type": "execute_result"
    }
   ],
   "source": [
    "transactions.groupby(['element_uid', 'type', 'duration', 'feature_1', 'feature_2', 'feature_3', 'feature_4', 'feature_5',\\\n",
    "                     ])['user_uid'].count().sort_values(ascending=False)"
   ]
  },
  {
   "cell_type": "code",
   "execution_count": 184,
   "metadata": {
    "collapsed": false
   },
   "outputs": [
    {
     "data": {
      "text/plain": [
       "<matplotlib.axes._subplots.AxesSubplot at 0x26bcf3ccb38>"
      ]
     },
     "execution_count": 184,
     "metadata": {},
     "output_type": "execute_result"
    },
    {
     "data": {
      "image/png": "[encoded data removed]",
      "text/plain": [
       "<Figure size 432x288 with 1 Axes>"
      ]
     },
     "metadata": {},
     "output_type": "display_data"
    }
   ],
   "source": [
    "transactions[(transactions['element_uid']==2639)&(transactions['watched_time']<7200)&(transactions['watched_time']>6500)]['watched_time'].hist(bins=100)"
   ]
  },
  {
   "cell_type": "code",
   "execution_count": 171,
   "metadata": {
    "collapsed": false
   },
   "outputs": [],
   "source": [
    "top_count = pd.DataFrame(transactions.groupby(['element_uid'])['user_uid'].count().sort_values(ascending=False)).reset_index()"
   ]
  },
  {
   "cell_type": "code",
   "execution_count": 173,
   "metadata": {
    "collapsed": false
   },
   "outputs": [],
   "source": [
    "top_count.columns = ['element_uid', 'count']"
   ]
  },
  {
   "cell_type": "code",
   "execution_count": 176,
   "metadata": {
    "collapsed": false
   },
   "outputs": [
    {
     "data": {
      "text/html": [
       "<div>\n",
       "<style scoped>\n",
       "    .dataframe tbody tr th:only-of-type {\n",
       "        vertical-align: middle;\n",
       "    }\n",
       "\n",
       "    .dataframe tbody tr th {\n",
       "        vertical-align: top;\n",
       "    }\n",
       "\n",
       "    .dataframe thead th {\n",
       "        text-align: right;\n",
       "    }\n",
       "</style>\n",
       "<table border=\"1\" class=\"dataframe\">\n",
       "  <thead>\n",
       "    <tr style=\"text-align: right;\">\n",
       "      <th></th>\n",
       "      <th>element_uid</th>\n",
       "      <th>count</th>\n",
       "    </tr>\n",
       "  </thead>\n",
       "  <tbody>\n",
       "    <tr>\n",
       "      <th>0</th>\n",
       "      <td>2714</td>\n",
       "      <td>68320</td>\n",
       "    </tr>\n",
       "    <tr>\n",
       "      <th>1</th>\n",
       "      <td>747</td>\n",
       "      <td>61272</td>\n",
       "    </tr>\n",
       "    <tr>\n",
       "      <th>2</th>\n",
       "      <td>2639</td>\n",
       "      <td>61119</td>\n",
       "    </tr>\n",
       "  </tbody>\n",
       "</table>\n",
       "</div>"
      ],
      "text/plain": [
       "   element_uid  count\n",
       "0         2714  68320\n",
       "1          747  61272\n",
       "2         2639  61119"
      ]
     },
     "execution_count": 176,
     "metadata": {},
     "output_type": "execute_result"
    }
   ],
   "source": [
    "top_count.head(3)"
   ]
  },
  {
   "cell_type": "code",
   "execution_count": 153,
   "metadata": {
    "collapsed": false
   },
   "outputs": [],
   "source": [
    "ratings = pd.merge(ratings, df_catalogue, how='left', left_on='element_uid', right_index=True)"
   ]
  },
  {
   "cell_type": "code",
   "execution_count": 177,
   "metadata": {
    "collapsed": true
   },
   "outputs": [],
   "source": [
    "ratings = pd.merge(ratings, top_count, how='left', on='element_uid')"
   ]
  },
  {
   "cell_type": "code",
   "execution_count": 181,
   "metadata": {
    "collapsed": false
   },
   "outputs": [
    {
     "data": {
      "text/plain": [
       "element_uid  type    duration  feature_1     feature_2  feature_3  feature_4  feature_5  count  \n",
       "6606         series  20        3.225516e+07  0.812768   14         1.131807   0.592716   17239.0    9.527174\n",
       "2257         series  50        3.770105e+07  0.819963   23         1.130076   0.680410   25843.0    9.509132\n",
       "7513         movie   110       1.746133e+07  0.813131   40         1.130076   0.654707   11616.0    9.449477\n",
       "3502         series  50        4.123701e+07  0.782443   14         1.138604   0.680410   13597.0    9.406593\n",
       "8771         series  50        4.161910e+07  0.786378   2          1.138604   0.654707   47480.0    9.346698\n",
       "3567         movie   100       4.069541e+07  0.807276   42         1.140273   0.592716   42278.0    9.202940\n",
       "3137         movie   130       3.570366e+07  0.778864   31         1.138604   0.680410   21617.0    9.159848\n",
       "1364         movie   130       1.671216e+06  0.795648   40         1.115741   0.592716   13504.0    9.135945\n",
       "5541         movie   90        5.519046e+06  0.794120   31         1.124804   0.000000   14943.0    9.133697\n",
       "3782         series  20        4.174411e+07  0.770371   2          1.135231   0.654707   10054.0    9.109091\n",
       "9992         movie   90        2.312114e+07  0.751458   34         1.135231   0.592716   12803.0    9.101167\n",
       "9633         movie   120       1.766425e+07  0.762089   28         1.133525   0.592716   12808.0    9.064976\n",
       "8501         movie   110       6.414542e+06  0.780459   39         1.123020   0.000000   18644.0    9.047554\n",
       "4972         movie   130       8.443398e+06  0.797928   41         1.130076   0.654707   10200.0    9.045541\n",
       "143          movie   110       1.601255e+06  0.778064   23         1.124804   0.654707   12932.0    9.031250\n",
       "4070         movie   80        6.904265e+06  0.811677   27         1.098474   0.000000   20606.0    9.025335\n",
       "7931         movie   130       1.273898e+07  0.780857   31         1.131807   0.654707   21384.0    9.007364\n",
       "4639         movie   150       1.655886e+07  0.789495   39         1.131807   0.680410   12601.0    9.005226\n",
       "5845         series  60        4.162279e+07  0.786378   17         1.138604   0.680410   34979.0    8.979661\n",
       "8612         movie   100       2.722290e+07  0.740500   20         1.136924   0.449667   10209.0    8.978022\n",
       "3947         movie   90        4.104523e+07  0.772004   47         1.140273   0.449667   18795.0    8.974297\n",
       "9089         movie   100       1.917538e+07  0.765839   23         1.133525   0.449667   15977.0    8.965135\n",
       "2206         movie   120       9.646719e+06  0.767081   26         1.130076   0.654707   14351.0    8.956303\n",
       "2245         movie   110       4.097526e+07  0.784022   45         1.140273   0.449667   52942.0    8.952146\n",
       "4141         movie   90        3.907229e+07  0.744924   41         1.140273   0.449667   41704.0    8.940630\n",
       "2531         movie   100       1.493576e+07  0.744484   25         1.130076   0.592716   11810.0    8.932900\n",
       "747          movie   120       4.195494e+07  0.773630   44         1.140273   0.449667   61272.0    8.930678\n",
       "9179         movie   90        4.378769e+07  0.727351   25         1.141929   0.449667   15416.0    8.921992\n",
       "3101         movie   140       3.320944e+07  0.758721   32         1.138604   0.654707   27282.0    8.917079\n",
       "236          movie   120       3.721129e+07  0.728734   44         1.140273   0.654707   15446.0    8.903654\n",
       "                                                                                                      ...   \n",
       "5035         movie   90        3.986986e+07  0.729194   13         1.140273   0.680410   27220.0    7.125926\n",
       "153          movie   100       4.112976e+07  0.682102   29         1.141929   0.654707   23054.0    7.124551\n",
       "10061        movie   100       4.156312e+07  0.664360   26         1.141929   0.654707   48993.0    7.097695\n",
       "1650         movie   90        4.166108e+07  0.704461   13         1.140273   0.680410   15338.0    7.093199\n",
       "6209         movie   90        4.171785e+07  0.665461   22         1.141929   0.654707   23259.0    6.932309\n",
       "8085         movie   100       4.177302e+07  0.695988   18         1.140273   0.592716   27726.0    6.922963\n",
       "9450         movie   90        3.920729e+07  0.499845   15         1.140273   0.654707   11337.0    6.898848\n",
       "5549         movie   100       4.054225e+07  0.663809   13         1.140273   0.654707   15063.0    6.886617\n",
       "5328         movie   80        3.957602e+07  0.681577   25         1.140273   0.654707   10827.0    6.871951\n",
       "5595         movie   100       4.147917e+07  0.693457   20         1.140273   0.654707   10203.0    6.793785\n",
       "4548         movie   90        4.318606e+07  0.612212   28         1.141929   0.680410   26271.0    6.730861\n",
       "4473         movie   90        4.200169e+07  0.648004   9          1.141929   0.654707   10666.0    6.710327\n",
       "4290         movie   80        4.077936e+07  0.642772   25         1.140273   0.654707   19547.0    6.705051\n",
       "3811         movie   90        3.656764e+07  0.703968   22         1.138604   0.449667   11087.0    6.612903\n",
       "8522         movie   100       3.999579e+07  0.650305   19         1.140273   0.680410   14804.0    6.434109\n",
       "3790         movie   90        4.231875e+07  0.676286   17         1.141929   0.680410   10049.0    6.417755\n",
       "603          movie   90        4.234673e+07  0.676286   26         1.141929   0.680410   16321.0    6.402469\n",
       "4171         movie   90        3.952240e+07  0.648004   16         1.140273   0.654707   10327.0    6.279343\n",
       "1227         movie   100       4.094727e+07  0.613486   15         1.141929   0.680410   17006.0    6.262899\n",
       "1577         movie   90        4.224878e+07  0.627208   16         1.141929   0.680410   14381.0    6.248031\n",
       "828          movie   80        4.173105e+07  0.724569   19         1.140273   0.680410   21243.0    6.096535\n",
       "1326         movie   110       4.107322e+07  0.734666   30         1.140273   0.680410   16379.0    5.773826\n",
       "7079         movie   90        4.175902e+07  0.627208   18         1.141929   0.654707   43872.0    5.697122\n",
       "8655         movie   80        4.294819e+07  0.645107   12         1.141929   0.680410   11100.0    5.559557\n",
       "8863         movie   90        3.991184e+07  0.600535   11         1.140273   0.680410   14187.0    5.401869\n",
       "1479         movie   110       3.971437e+07  0.628430   14         1.140273   0.680410   11234.0    5.340426\n",
       "4366         movie   90        4.275229e+07  0.605772   22         1.141929   0.680410   10093.0    5.224335\n",
       "6794         movie   100       4.241669e+07  0.619164   11         1.140273   0.680410   11212.0    4.609195\n",
       "5665         movie   80        4.279831e+07  0.570986   16         1.141929   0.654707   17972.0    3.938614\n",
       "6573         movie   60        4.224878e+07  0.492775   14         1.141929   0.680410   19980.0    3.747440\n",
       "Name: rating, Length: 196, dtype: float64"
      ]
     },
     "execution_count": 181,
     "metadata": {},
     "output_type": "execute_result"
    }
   ],
   "source": [
    "ratings[ratings['count']>10000].groupby(['element_uid', 'type', 'duration', 'feature_1', 'feature_2', 'feature_3', 'feature_4', 'feature_5',\\\n",
    "                     'count'])['rating'].mean().sort_values(ascending=False)"
   ]
  },
  {
   "cell_type": "code",
   "execution_count": null,
   "metadata": {
    "collapsed": true
   },
   "outputs": [],
   "source": []
  },
  {
   "cell_type": "code",
   "execution_count": 16,
   "metadata": {
    "collapsed": false,
    "scrolled": false
   },
   "outputs": [
    {
     "data": {
      "text/html": [
       "<div>\n",
       "<style scoped>\n",
       "    .dataframe tbody tr th:only-of-type {\n",
       "        vertical-align: middle;\n",
       "    }\n",
       "\n",
       "    .dataframe tbody tr th {\n",
       "        vertical-align: top;\n",
       "    }\n",
       "\n",
       "    .dataframe thead th {\n",
       "        text-align: right;\n",
       "    }\n",
       "</style>\n",
       "<table border=\"1\" class=\"dataframe\">\n",
       "  <thead>\n",
       "    <tr style=\"text-align: right;\">\n",
       "      <th></th>\n",
       "      <th>element_uid</th>\n",
       "      <th>user_uid</th>\n",
       "      <th>ts</th>\n",
       "      <th>watched_time</th>\n",
       "      <th>device_type</th>\n",
       "      <th>device_manufacturer</th>\n",
       "      <th>duration</th>\n",
       "      <th>feature_1</th>\n",
       "      <th>feature_2</th>\n",
       "      <th>feature_3</th>\n",
       "      <th>feature_4</th>\n",
       "      <th>feature_5</th>\n",
       "      <th>elem_watched_time_mean</th>\n",
       "      <th>elem_watched_time_median</th>\n",
       "    </tr>\n",
       "  </thead>\n",
       "  <tbody>\n",
       "    <tr>\n",
       "      <th>count</th>\n",
       "      <td>6.558159e+06</td>\n",
       "      <td>6.558159e+06</td>\n",
       "      <td>6.558159e+06</td>\n",
       "      <td>6.558159e+06</td>\n",
       "      <td>6.558159e+06</td>\n",
       "      <td>6.558159e+06</td>\n",
       "      <td>6.558159e+06</td>\n",
       "      <td>6.558159e+06</td>\n",
       "      <td>6.558159e+06</td>\n",
       "      <td>6.558159e+06</td>\n",
       "      <td>6.558159e+06</td>\n",
       "      <td>6.558159e+06</td>\n",
       "      <td>6.558159e+06</td>\n",
       "      <td>6.558159e+06</td>\n",
       "    </tr>\n",
       "    <tr>\n",
       "      <th>mean</th>\n",
       "      <td>4.915903e+03</td>\n",
       "      <td>2.970374e+05</td>\n",
       "      <td>4.307423e+07</td>\n",
       "      <td>8.973787e+03</td>\n",
       "      <td>6.273113e-01</td>\n",
       "      <td>5.331692e+01</td>\n",
       "      <td>9.356283e+01</td>\n",
       "      <td>3.047970e+07</td>\n",
       "      <td>7.286954e-01</td>\n",
       "      <td>2.000053e+01</td>\n",
       "      <td>1.130690e+00</td>\n",
       "      <td>5.294272e-01</td>\n",
       "      <td>6.586072e+03</td>\n",
       "      <td>5.410154e+03</td>\n",
       "    </tr>\n",
       "    <tr>\n",
       "      <th>std</th>\n",
       "      <td>2.957592e+03</td>\n",
       "      <td>1.710971e+05</td>\n",
       "      <td>7.434018e+05</td>\n",
       "      <td>2.160543e+04</td>\n",
       "      <td>1.429497e+00</td>\n",
       "      <td>3.025051e+01</td>\n",
       "      <td>3.227748e+01</td>\n",
       "      <td>1.348188e+07</td>\n",
       "      <td>5.042258e-02</td>\n",
       "      <td>1.096756e+01</td>\n",
       "      <td>2.152439e-02</td>\n",
       "      <td>2.859834e-01</td>\n",
       "      <td>7.985530e+03</td>\n",
       "      <td>2.936313e+03</td>\n",
       "    </tr>\n",
       "    <tr>\n",
       "      <th>min</th>\n",
       "      <td>0.000000e+00</td>\n",
       "      <td>0.000000e+00</td>\n",
       "      <td>4.173063e+07</td>\n",
       "      <td>0.000000e+00</td>\n",
       "      <td>0.000000e+00</td>\n",
       "      <td>0.000000e+00</td>\n",
       "      <td>0.000000e+00</td>\n",
       "      <td>1.006248e+02</td>\n",
       "      <td>2.658995e-01</td>\n",
       "      <td>0.000000e+00</td>\n",
       "      <td>7.343941e-01</td>\n",
       "      <td>-1.000000e+00</td>\n",
       "      <td>0.000000e+00</td>\n",
       "      <td>0.000000e+00</td>\n",
       "    </tr>\n",
       "    <tr>\n",
       "      <th>25%</th>\n",
       "      <td>2.360500e+03</td>\n",
       "      <td>1.487140e+05</td>\n",
       "      <td>4.242619e+07</td>\n",
       "      <td>4.892000e+03</td>\n",
       "      <td>0.000000e+00</td>\n",
       "      <td>5.000000e+01</td>\n",
       "      <td>8.000000e+01</td>\n",
       "      <td>1.942723e+07</td>\n",
       "      <td>6.985012e-01</td>\n",
       "      <td>1.200000e+01</td>\n",
       "      <td>1.130076e+00</td>\n",
       "      <td>5.927161e-01</td>\n",
       "      <td>3.969532e+03</td>\n",
       "      <td>4.490000e+03</td>\n",
       "    </tr>\n",
       "    <tr>\n",
       "      <th>50%</th>\n",
       "      <td>4.681000e+03</td>\n",
       "      <td>2.971780e+05</td>\n",
       "      <td>4.313255e+07</td>\n",
       "      <td>5.853000e+03</td>\n",
       "      <td>0.000000e+00</td>\n",
       "      <td>5.000000e+01</td>\n",
       "      <td>1.000000e+02</td>\n",
       "      <td>3.715533e+07</td>\n",
       "      <td>7.360206e-01</td>\n",
       "      <td>1.800000e+01</td>\n",
       "      <td>1.138604e+00</td>\n",
       "      <td>6.547073e-01</td>\n",
       "      <td>4.980626e+03</td>\n",
       "      <td>5.426000e+03</td>\n",
       "    </tr>\n",
       "    <tr>\n",
       "      <th>75%</th>\n",
       "      <td>7.433000e+03</td>\n",
       "      <td>4.450980e+05</td>\n",
       "      <td>4.371430e+07</td>\n",
       "      <td>7.294000e+03</td>\n",
       "      <td>0.000000e+00</td>\n",
       "      <td>8.500000e+01</td>\n",
       "      <td>1.100000e+02</td>\n",
       "      <td>4.146583e+07</td>\n",
       "      <td>7.662538e-01</td>\n",
       "      <td>2.700000e+01</td>\n",
       "      <td>1.140273e+00</td>\n",
       "      <td>6.547073e-01</td>\n",
       "      <td>6.307795e+03</td>\n",
       "      <td>6.295000e+03</td>\n",
       "    </tr>\n",
       "    <tr>\n",
       "      <th>max</th>\n",
       "      <td>1.019900e+04</td>\n",
       "      <td>5.934890e+05</td>\n",
       "      <td>4.430518e+07</td>\n",
       "      <td>4.326296e+06</td>\n",
       "      <td>6.000000e+00</td>\n",
       "      <td>9.900000e+01</td>\n",
       "      <td>2.900000e+02</td>\n",
       "      <td>4.380675e+07</td>\n",
       "      <td>8.270144e-01</td>\n",
       "      <td>5.000000e+01</td>\n",
       "      <td>1.141929e+00</td>\n",
       "      <td>6.804097e-01</td>\n",
       "      <td>1.712741e+05</td>\n",
       "      <td>9.651250e+04</td>\n",
       "    </tr>\n",
       "  </tbody>\n",
       "</table>\n",
       "</div>"
      ],
      "text/plain": [
       "        element_uid      user_uid            ts  watched_time   device_type  \\\n",
       "count  6.558159e+06  6.558159e+06  6.558159e+06  6.558159e+06  6.558159e+06   \n",
       "mean   4.915903e+03  2.970374e+05  4.307423e+07  8.973787e+03  6.273113e-01   \n",
       "std    2.957592e+03  1.710971e+05  7.434018e+05  2.160543e+04  1.429497e+00   \n",
       "min    0.000000e+00  0.000000e+00  4.173063e+07  0.000000e+00  0.000000e+00   \n",
       "25%    2.360500e+03  1.487140e+05  4.242619e+07  4.892000e+03  0.000000e+00   \n",
       "50%    4.681000e+03  2.971780e+05  4.313255e+07  5.853000e+03  0.000000e+00   \n",
       "75%    7.433000e+03  4.450980e+05  4.371430e+07  7.294000e+03  0.000000e+00   \n",
       "max    1.019900e+04  5.934890e+05  4.430518e+07  4.326296e+06  6.000000e+00   \n",
       "\n",
       "       device_manufacturer      duration     feature_1     feature_2  \\\n",
       "count         6.558159e+06  6.558159e+06  6.558159e+06  6.558159e+06   \n",
       "mean          5.331692e+01  9.356283e+01  3.047970e+07  7.286954e-01   \n",
       "std           3.025051e+01  3.227748e+01  1.348188e+07  5.042258e-02   \n",
       "min           0.000000e+00  0.000000e+00  1.006248e+02  2.658995e-01   \n",
       "25%           5.000000e+01  8.000000e+01  1.942723e+07  6.985012e-01   \n",
       "50%           5.000000e+01  1.000000e+02  3.715533e+07  7.360206e-01   \n",
       "75%           8.500000e+01  1.100000e+02  4.146583e+07  7.662538e-01   \n",
       "max           9.900000e+01  2.900000e+02  4.380675e+07  8.270144e-01   \n",
       "\n",
       "          feature_3     feature_4     feature_5  elem_watched_time_mean  \\\n",
       "count  6.558159e+06  6.558159e+06  6.558159e+06            6.558159e+06   \n",
       "mean   2.000053e+01  1.130690e+00  5.294272e-01            6.586072e+03   \n",
       "std    1.096756e+01  2.152439e-02  2.859834e-01            7.985530e+03   \n",
       "min    0.000000e+00  7.343941e-01 -1.000000e+00            0.000000e+00   \n",
       "25%    1.200000e+01  1.130076e+00  5.927161e-01            3.969532e+03   \n",
       "50%    1.800000e+01  1.138604e+00  6.547073e-01            4.980626e+03   \n",
       "75%    2.700000e+01  1.140273e+00  6.547073e-01            6.307795e+03   \n",
       "max    5.000000e+01  1.141929e+00  6.804097e-01            1.712741e+05   \n",
       "\n",
       "       elem_watched_time_median  \n",
       "count              6.558159e+06  \n",
       "mean               5.410154e+03  \n",
       "std                2.936313e+03  \n",
       "min                0.000000e+00  \n",
       "25%                4.490000e+03  \n",
       "50%                5.426000e+03  \n",
       "75%                6.295000e+03  \n",
       "max                9.651250e+04  "
      ]
     },
     "execution_count": 16,
     "metadata": {},
     "output_type": "execute_result"
    }
   ],
   "source": [
    "targets = transactions.query(\"\"\" consumption_mode == 'P' or consumption_mode == 'R' \\\n",
    "    or consumption_mode == 'S' and type in ['series', 'multipart_movie'] and watched_time > elem_watched_time_median /3 \\\n",
    "    or consumption_mode == 'S' and type == 'movie' and watched_time / 60 > duration / 2 \"\"\")\n",
    "targets.describe()"
   ]
  },
  {
   "cell_type": "code",
   "execution_count": 83,
   "metadata": {
    "collapsed": false
   },
   "outputs": [
    {
     "data": {
      "text/plain": [
       "(6558159, 18)"
      ]
     },
     "execution_count": 83,
     "metadata": {},
     "output_type": "execute_result"
    }
   ],
   "source": [
    "targets.shape"
   ]
  },
  {
   "cell_type": "markdown",
   "metadata": {},
   "source": [
    "---"
   ]
  },
  {
   "cell_type": "markdown",
   "metadata": {},
   "source": [
    "`ratings.csv` содержит информацию о поставленных пользователями оценках"
   ]
  },
  {
   "cell_type": "code",
   "execution_count": 151,
   "metadata": {
    "collapsed": false
   },
   "outputs": [
    {
     "name": "stdout",
     "output_type": "stream",
     "text": [
      "Wall time: 267 ms\n"
     ]
    }
   ],
   "source": [
    "%%time\n",
    "ratings = pd.read_csv(\n",
    "    os.path.join(DATA_PATH, 'ratings.csv'),\n",
    "    dtype={\n",
    "        'element_uid': np.uint16,\n",
    "        'user_uid': np.uint32,\n",
    "        'ts': np.float64,\n",
    "        'rating': np.uint8\n",
    "    }\n",
    ")"
   ]
  },
  {
   "cell_type": "code",
   "execution_count": 140,
   "metadata": {
    "collapsed": false
   },
   "outputs": [
    {
     "data": {
      "text/html": [
       "<div>\n",
       "<style scoped>\n",
       "    .dataframe tbody tr th:only-of-type {\n",
       "        vertical-align: middle;\n",
       "    }\n",
       "\n",
       "    .dataframe tbody tr th {\n",
       "        vertical-align: top;\n",
       "    }\n",
       "\n",
       "    .dataframe thead th {\n",
       "        text-align: right;\n",
       "    }\n",
       "</style>\n",
       "<table border=\"1\" class=\"dataframe\">\n",
       "  <thead>\n",
       "    <tr style=\"text-align: right;\">\n",
       "      <th></th>\n",
       "      <th>user_uid</th>\n",
       "      <th>element_uid</th>\n",
       "      <th>rating</th>\n",
       "      <th>ts</th>\n",
       "    </tr>\n",
       "  </thead>\n",
       "  <tbody>\n",
       "    <tr>\n",
       "      <th>0</th>\n",
       "      <td>571252</td>\n",
       "      <td>1364</td>\n",
       "      <td>10</td>\n",
       "      <td>4.430517e+07</td>\n",
       "    </tr>\n",
       "    <tr>\n",
       "      <th>1</th>\n",
       "      <td>63140</td>\n",
       "      <td>3037</td>\n",
       "      <td>10</td>\n",
       "      <td>4.430514e+07</td>\n",
       "    </tr>\n",
       "    <tr>\n",
       "      <th>2</th>\n",
       "      <td>443817</td>\n",
       "      <td>4363</td>\n",
       "      <td>8</td>\n",
       "      <td>4.430514e+07</td>\n",
       "    </tr>\n",
       "  </tbody>\n",
       "</table>\n",
       "</div>"
      ],
      "text/plain": [
       "   user_uid  element_uid  rating            ts\n",
       "0    571252         1364      10  4.430517e+07\n",
       "1     63140         3037      10  4.430514e+07\n",
       "2    443817         4363       8  4.430514e+07"
      ]
     },
     "execution_count": 140,
     "metadata": {},
     "output_type": "execute_result"
    }
   ],
   "source": [
    "ratings.head(3)"
   ]
  },
  {
   "cell_type": "markdown",
   "metadata": {},
   "source": [
    " - `rating` — поставленный пользователем рейтинг (от `0` до `10`)"
   ]
  },
  {
   "cell_type": "markdown",
   "metadata": {},
   "source": [
    "---"
   ]
  },
  {
   "cell_type": "code",
   "execution_count": 19,
   "metadata": {
    "collapsed": false
   },
   "outputs": [
    {
     "data": {
      "text/html": [
       "<div>\n",
       "<style scoped>\n",
       "    .dataframe tbody tr th:only-of-type {\n",
       "        vertical-align: middle;\n",
       "    }\n",
       "\n",
       "    .dataframe tbody tr th {\n",
       "        vertical-align: top;\n",
       "    }\n",
       "\n",
       "    .dataframe thead th {\n",
       "        text-align: right;\n",
       "    }\n",
       "</style>\n",
       "<table border=\"1\" class=\"dataframe\">\n",
       "  <thead>\n",
       "    <tr style=\"text-align: right;\">\n",
       "      <th></th>\n",
       "      <th>user_uid</th>\n",
       "      <th>element_uid</th>\n",
       "      <th>rating</th>\n",
       "      <th>ts</th>\n",
       "    </tr>\n",
       "  </thead>\n",
       "  <tbody>\n",
       "    <tr>\n",
       "      <th>count</th>\n",
       "      <td>438790.000000</td>\n",
       "      <td>438790.000000</td>\n",
       "      <td>438790.000000</td>\n",
       "      <td>4.387900e+05</td>\n",
       "    </tr>\n",
       "    <tr>\n",
       "      <th>mean</th>\n",
       "      <td>297633.918918</td>\n",
       "      <td>4877.467467</td>\n",
       "      <td>8.189079</td>\n",
       "      <td>4.298166e+07</td>\n",
       "    </tr>\n",
       "    <tr>\n",
       "      <th>std</th>\n",
       "      <td>170411.749934</td>\n",
       "      <td>2952.994260</td>\n",
       "      <td>2.074550</td>\n",
       "      <td>7.275682e+05</td>\n",
       "    </tr>\n",
       "    <tr>\n",
       "      <th>min</th>\n",
       "      <td>1.000000</td>\n",
       "      <td>3.000000</td>\n",
       "      <td>0.000000</td>\n",
       "      <td>4.173065e+07</td>\n",
       "    </tr>\n",
       "    <tr>\n",
       "      <th>25%</th>\n",
       "      <td>147598.000000</td>\n",
       "      <td>2297.000000</td>\n",
       "      <td>7.000000</td>\n",
       "      <td>4.232747e+07</td>\n",
       "    </tr>\n",
       "    <tr>\n",
       "      <th>50%</th>\n",
       "      <td>300425.000000</td>\n",
       "      <td>4709.000000</td>\n",
       "      <td>9.000000</td>\n",
       "      <td>4.301707e+07</td>\n",
       "    </tr>\n",
       "    <tr>\n",
       "      <th>75%</th>\n",
       "      <td>445190.000000</td>\n",
       "      <td>7381.000000</td>\n",
       "      <td>10.000000</td>\n",
       "      <td>4.358960e+07</td>\n",
       "    </tr>\n",
       "    <tr>\n",
       "      <th>max</th>\n",
       "      <td>593486.000000</td>\n",
       "      <td>10199.000000</td>\n",
       "      <td>10.000000</td>\n",
       "      <td>4.430517e+07</td>\n",
       "    </tr>\n",
       "  </tbody>\n",
       "</table>\n",
       "</div>"
      ],
      "text/plain": [
       "            user_uid    element_uid         rating            ts\n",
       "count  438790.000000  438790.000000  438790.000000  4.387900e+05\n",
       "mean   297633.918918    4877.467467       8.189079  4.298166e+07\n",
       "std    170411.749934    2952.994260       2.074550  7.275682e+05\n",
       "min         1.000000       3.000000       0.000000  4.173065e+07\n",
       "25%    147598.000000    2297.000000       7.000000  4.232747e+07\n",
       "50%    300425.000000    4709.000000       9.000000  4.301707e+07\n",
       "75%    445190.000000    7381.000000      10.000000  4.358960e+07\n",
       "max    593486.000000   10199.000000      10.000000  4.430517e+07"
      ]
     },
     "execution_count": 19,
     "metadata": {},
     "output_type": "execute_result"
    }
   ],
   "source": [
    "ratings.describe()"
   ]
  },
  {
   "cell_type": "markdown",
   "metadata": {},
   "source": [
    "`bookmarks.csv` содержит информацию об элементах, добавленных пользователями в список «Избранное»"
   ]
  },
  {
   "cell_type": "code",
   "execution_count": 20,
   "metadata": {
    "collapsed": false
   },
   "outputs": [
    {
     "name": "stdout",
     "output_type": "stream",
     "text": [
      "Wall time: 494 ms\n"
     ]
    }
   ],
   "source": [
    "%%time\n",
    "bookmarks = pd.read_csv(\n",
    "    os.path.join(DATA_PATH, 'bookmarks.csv'),\n",
    "    dtype={\n",
    "        'element_uid': np.uint16,\n",
    "        'user_uid': np.uint32,\n",
    "        'ts': np.float64\n",
    "    }\n",
    ")"
   ]
  },
  {
   "cell_type": "code",
   "execution_count": 21,
   "metadata": {
    "collapsed": false
   },
   "outputs": [
    {
     "data": {
      "text/html": [
       "<div>\n",
       "<style scoped>\n",
       "    .dataframe tbody tr th:only-of-type {\n",
       "        vertical-align: middle;\n",
       "    }\n",
       "\n",
       "    .dataframe tbody tr th {\n",
       "        vertical-align: top;\n",
       "    }\n",
       "\n",
       "    .dataframe thead th {\n",
       "        text-align: right;\n",
       "    }\n",
       "</style>\n",
       "<table border=\"1\" class=\"dataframe\">\n",
       "  <thead>\n",
       "    <tr style=\"text-align: right;\">\n",
       "      <th></th>\n",
       "      <th>user_uid</th>\n",
       "      <th>element_uid</th>\n",
       "      <th>ts</th>\n",
       "    </tr>\n",
       "  </thead>\n",
       "  <tbody>\n",
       "    <tr>\n",
       "      <th>0</th>\n",
       "      <td>301135</td>\n",
       "      <td>7185</td>\n",
       "      <td>4.430516e+07</td>\n",
       "    </tr>\n",
       "    <tr>\n",
       "      <th>1</th>\n",
       "      <td>301135</td>\n",
       "      <td>4083</td>\n",
       "      <td>4.430516e+07</td>\n",
       "    </tr>\n",
       "    <tr>\n",
       "      <th>2</th>\n",
       "      <td>301135</td>\n",
       "      <td>10158</td>\n",
       "      <td>4.430516e+07</td>\n",
       "    </tr>\n",
       "  </tbody>\n",
       "</table>\n",
       "</div>"
      ],
      "text/plain": [
       "   user_uid  element_uid            ts\n",
       "0    301135         7185  4.430516e+07\n",
       "1    301135         4083  4.430516e+07\n",
       "2    301135        10158  4.430516e+07"
      ]
     },
     "execution_count": 21,
     "metadata": {},
     "output_type": "execute_result"
    }
   ],
   "source": [
    "bookmarks.head(3)"
   ]
  },
  {
   "cell_type": "markdown",
   "metadata": {},
   "source": [
    "### Решение"
   ]
  },
  {
   "cell_type": "markdown",
   "metadata": {},
   "source": [
    "Для начала построим список элементов, которые тестовые пользователи уже купили или посмотрели по подписке: они не смогут купить их второй раз, а просмотр по подписке второй раз маловероятен, поэтому мы захотим отфильтровать такие элементы из финального ответа.\n",
    "\n",
    "Точно так же можно поступить и с рейтингами и добавлениями в избранное, если это будет казаться правильным."
   ]
  },
  {
   "cell_type": "markdown",
   "metadata": {},
   "source": [
    "---"
   ]
  },
  {
   "cell_type": "markdown",
   "metadata": {},
   "source": [
    "#### Построим разреженную матрицу по транзакциям и обучимся только на \"старых\" данных"
   ]
  },
  {
   "cell_type": "code",
   "execution_count": 102,
   "metadata": {
    "collapsed": false
   },
   "outputs": [
    {
     "name": "stdout",
     "output_type": "stream",
     "text": [
      "Wall time: 3.17 s\n"
     ]
    }
   ],
   "source": [
    "%%time\n",
    "\n",
    "validation_percent = 1\n",
    "\n",
    "ts_cut_off = targets['ts'].quantile(validation_percent)\n",
    "\n",
    "train_transactions = pd.DataFrame(targets.query('ts < @ts_cut_off +0.01'))\n",
    "train_transactions['user_uid'] = train_transactions['user_uid'].astype('category')\n",
    "train_transactions['element_uid'] = train_transactions['element_uid'].astype('category')\n",
    "train_transactions['has_trans_flg'] = 1\n",
    "\n",
    "validation_transactions = transactions.query('ts >= @ts_cut_off')\n",
    "validation_users = set(validation_transactions['user_uid'])\n",
    "validation_result = {k: g[\"element_uid\"].tolist() for k,g in validation_transactions.groupby(\"user_uid\")}\n",
    "\n",
    "transactions_matrix = sp.coo_matrix(\n",
    "    (train_transactions['has_trans_flg'].astype(np.float32) + 1,\n",
    "        (\n",
    "            train_transactions['element_uid'].cat.codes.copy(),\n",
    "            train_transactions['user_uid'].cat.codes.copy()\n",
    "        )\n",
    "    )\n",
    ")\n",
    "\n",
    "transactions_matrix = transactions_matrix.tocsr()"
   ]
  },
  {
   "cell_type": "code",
   "execution_count": 108,
   "metadata": {
    "collapsed": false
   },
   "outputs": [
    {
     "data": {
      "text/plain": [
       "(6558159, 19)"
      ]
     },
     "execution_count": 108,
     "metadata": {},
     "output_type": "execute_result"
    }
   ],
   "source": [
    "train_transactions.shape"
   ]
  },
  {
   "cell_type": "code",
   "execution_count": 85,
   "metadata": {
    "collapsed": false
   },
   "outputs": [
    {
     "name": "stdout",
     "output_type": "stream",
     "text": [
      "Sparsity: 0.001635\n"
     ]
    }
   ],
   "source": [
    "sparsity = transactions_matrix.nnz / (transactions_matrix.shape[0] * transactions_matrix.shape[1])\n",
    "print('Sparsity: %.6f' % sparsity)"
   ]
  },
  {
   "cell_type": "markdown",
   "metadata": {},
   "source": [
    "Обучить модель крайне просто."
   ]
  },
  {
   "cell_type": "code",
   "execution_count": 86,
   "metadata": {
    "collapsed": false
   },
   "outputs": [
    {
     "name": "stderr",
     "output_type": "stream",
     "text": [
      "100%|████████████████████████████████████████████████████████████████████████████| 8221/8221 [00:00<00:00, 8368.52it/s]\n"
     ]
    }
   ],
   "source": [
    "from implicit.nearest_neighbours import TFIDFRecommender\n",
    "\n",
    "model = TFIDFRecommender()\n",
    "model.fit(transactions_matrix)"
   ]
  },
  {
   "cell_type": "markdown",
   "metadata": {},
   "source": [
    "---"
   ]
  },
  {
   "cell_type": "code",
   "execution_count": 87,
   "metadata": {
    "collapsed": true
   },
   "outputs": [],
   "source": [
    "transactions_matrix_T = transactions_matrix.T.tocsr()"
   ]
  },
  {
   "cell_type": "markdown",
   "metadata": {},
   "source": [
    "Отображения из оригинальной категории во внутреннюю пригодится нам в дальнейшем."
   ]
  },
  {
   "cell_type": "code",
   "execution_count": 88,
   "metadata": {
    "collapsed": false
   },
   "outputs": [],
   "source": [
    "user_uid_to_cat = dict(zip(\n",
    "    train_transactions['user_uid'].cat.categories,\n",
    "    range(len(train_transactions['user_uid'].cat.categories))\n",
    "))"
   ]
  },
  {
   "cell_type": "code",
   "execution_count": 89,
   "metadata": {
    "collapsed": true
   },
   "outputs": [],
   "source": [
    "element_uid_to_cat = dict(zip(\n",
    "    train_transactions['element_uid'].cat.categories,\n",
    "    range(len(train_transactions['element_uid'].cat.categories))\n",
    "))"
   ]
  },
  {
   "cell_type": "markdown",
   "metadata": {},
   "source": [
    "#### Отфильтруем ненужные элементы"
   ]
  },
  {
   "cell_type": "code",
   "execution_count": 109,
   "metadata": {
    "collapsed": false
   },
   "outputs": [
    {
     "name": "stderr",
     "output_type": "stream",
     "text": [
      "100%|████████████████████████████████████████████████████████████████████| 9643012/9643012 [00:18<00:00, 531456.08it/s]\n"
     ]
    }
   ],
   "source": [
    "from collections import defaultdict\n",
    "\n",
    "filtered_elements = defaultdict(set)\n",
    "\n",
    "for user_uid, element_uid in tqdm.tqdm(transactions.loc[:, ['user_uid', 'element_uid']].values):\n",
    "    if user_uid not in test_users:\n",
    "        continue\n",
    "    filtered_elements[user_uid].add(element_uid)"
   ]
  },
  {
   "cell_type": "code",
   "execution_count": 112,
   "metadata": {
    "collapsed": false
   },
   "outputs": [
    {
     "data": {
      "text/plain": [
       "49992"
      ]
     },
     "execution_count": 112,
     "metadata": {},
     "output_type": "execute_result"
    }
   ],
   "source": [
    "len(filtered_elements_cat)"
   ]
  },
  {
   "cell_type": "code",
   "execution_count": 113,
   "metadata": {
    "collapsed": false
   },
   "outputs": [],
   "source": [
    "filtered_elements_cat = {k: [element_uid_to_cat.get(x, None) for x in v] for k, v in filtered_elements.items()}"
   ]
  },
  {
   "cell_type": "markdown",
   "metadata": {},
   "source": [
    "---"
   ]
  },
  {
   "cell_type": "markdown",
   "metadata": {},
   "source": [
    "В метод `model.recommend` мы передаём идентификатор пользователя, который получаем обратным преобразованием из категории, транспонированную матрицу взаимодействий, число необходимых рекомендаций и список элементов, которые мы договорились фильтровать из ответа.\n",
    "\n",
    "Возвращает метод список пар (`element_cat`, `score`), отсортированный по вторым элементам. Из него необходимо достать все первые элементы пар и из категории преобразовать их к `element_uid`."
   ]
  },
  {
   "cell_type": "markdown",
   "metadata": {},
   "source": [
    "**Если необходимо построить предсказание для тестовой выборки, нужно заменить validation_users на test_users.**\n",
    "\n",
    "NB. Не забыть поменять сплит train'a и валидационной выборки"
   ]
  },
  {
   "cell_type": "code",
   "execution_count": 114,
   "metadata": {
    "collapsed": false
   },
   "outputs": [
    {
     "name": "stderr",
     "output_type": "stream",
     "text": [
      "100%|██████████████████████████████████████████████████████████████████████████| 50000/50000 [00:17<00:00, 2929.51it/s]\n"
     ]
    }
   ],
   "source": [
    "result = {}\n",
    "\n",
    "for user_uid in tqdm.tqdm(test_users):\n",
    "    # transform user_uid to model's internal user category\n",
    "    try:\n",
    "        user_cat = user_uid_to_cat[user_uid]\n",
    "    except LookupError:\n",
    "        continue\n",
    "    \n",
    "    # perform inference\n",
    "    recs = model.recommend(\n",
    "        user_cat,\n",
    "        transactions_matrix_T,\n",
    "        N=20,\n",
    "        filter_already_liked_items=True,\n",
    "        filter_items=filtered_elements_cat.get(user_uid, set())\n",
    "    )\n",
    "    \n",
    "    # drop scores and transform model's internal elelemnt category to element_uid for every prediction\n",
    "    # also convert np.uint64 to int so it could be json serialized later\n",
    "    result[user_uid] = [int(train_transactions['element_uid'].cat.categories[i]) for i, _ in recs]"
   ]
  },
  {
   "cell_type": "code",
   "execution_count": 93,
   "metadata": {
    "collapsed": false
   },
   "outputs": [
    {
     "data": {
      "text/plain": [
       "49669"
      ]
     },
     "execution_count": 93,
     "metadata": {},
     "output_type": "execute_result"
    }
   ],
   "source": [
    "len(result)"
   ]
  },
  {
   "cell_type": "markdown",
   "metadata": {},
   "source": [
    "#### Построили предсказание для валидационной выборки. Посмотрим на качество на этой выборке."
   ]
  },
  {
   "cell_type": "markdown",
   "metadata": {},
   "source": [
    "Расчет метрики сохранен в файле metric.pyx. Это код на Cython, поэтому нужно подключение отдельных библиотек и компиляция этого файла. "
   ]
  },
  {
   "cell_type": "code",
   "execution_count": 80,
   "metadata": {
    "collapsed": false
   },
   "outputs": [
    {
     "name": "stdout",
     "output_type": "stream",
     "text": [
      "Final metric on validation = 0.01685\n"
     ]
    }
   ],
   "source": [
    "import time\n",
    "import pyximport; pyximport.install()\n",
    "import metric\n",
    "\n",
    "print(\"Final metric on validation = %.5f\" % metric.metric(validation_result, result))"
   ]
  },
  {
   "cell_type": "markdown",
   "metadata": {
    "collapsed": false
   },
   "source": [
    "#### Дамп ответа в json"
   ]
  },
  {
   "cell_type": "code",
   "execution_count": 116,
   "metadata": {
    "collapsed": false
   },
   "outputs": [],
   "source": [
    "from datetime import datetime\n",
    "\n",
    "with open('submits/transactions-' + datetime.now().strftime('%Y-%m-%d %H-%M-%S') + '.json', 'w') as f:\n",
    "    json.dump(result, f)"
   ]
  },
  {
   "cell_type": "code",
   "execution_count": null,
   "metadata": {
    "collapsed": true
   },
   "outputs": [],
   "source": []
  }
 ],
 "metadata": {
  "hide_input": false,
  "kernelspec": {
   "display_name": "Python 3",
   "language": "python",
   "name": "python3"
  },
  "language_info": {
   "codemirror_mode": {
    "name": "ipython",
    "version": 3
   },
   "file_extension": ".py",
   "mimetype": "text/x-python",
   "name": "python",
   "nbconvert_exporter": "python",
   "pygments_lexer": "ipython3",
   "version": "3.6.4"
  }
 },
 "nbformat": 4,
 "nbformat_minor": 2
}
